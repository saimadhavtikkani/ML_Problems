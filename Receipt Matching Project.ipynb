{
 "cells": [
  {
   "cell_type": "markdown",
   "metadata": {},
   "source": [
    "#### Created By : Sai Madhav Tikkani\n",
    "#### Dated : 1st March 2021\n",
    "#### Objective : \n",
    "    1. To identify whether transaction-receipt matching vector was able to correctly predit the transaction\n",
    "    2. Create a best ML model  which can be used to order a set of transactions by likelihood of matching a receipt image \n",
    "   \n",
    "#### Methodology :\n",
    "    1. Looking for Missing Values\n",
    "    2. Looking for Outliers\n",
    "    3. Create target variable for the model\n",
    "    4. One hot encoding\n",
    "    5. Balance Imbalance Class and treatment\n",
    "    6. Trying out a Linear model in Logistic Regression\n",
    "    7. Trying out a decision tree model in Random Forest\n",
    "    8. Trying out a Non Linear model in XG Boost\n",
    "    9. Parameter tuning\n",
    "    10. Variable Importance\n",
    "#### Suggesting Next Steps : As all ideas can't be tried in limited time\n",
    "#### Suggesting Required : Suggesting what would be deployment strategy for the model\n"
   ]
  },
  {
   "cell_type": "code",
   "execution_count": 1,
   "metadata": {},
   "outputs": [],
   "source": [
    "### Import all the required packages to be used for furthar analysis\n",
    "import pandas as pd\n",
    "import os\n",
    "import numpy as np\n",
    "import sklearn\n",
    "import matplotlib.pyplot as plt\n",
    "from IPython.display import display"
   ]
  },
  {
   "cell_type": "code",
   "execution_count": 2,
   "metadata": {},
   "outputs": [
    {
     "data": {
      "text/plain": [
       "'C:\\\\Users\\\\hp'"
      ]
     },
     "execution_count": 2,
     "metadata": {},
     "output_type": "execute_result"
    }
   ],
   "source": [
    "### Change the locations for current working directory\n",
    "os.getcwd()"
   ]
  },
  {
   "cell_type": "code",
   "execution_count": 3,
   "metadata": {},
   "outputs": [],
   "source": [
    "### Read the file required\n",
    "trans = pd.read_csv('C:\\\\Users\\\\hp\\\\Desktop\\\\Madhav\\\\Tide_test_DS\\\\Tide_test_DS\\\\data_interview_test_v2.csv',delimiter=':')"
   ]
  },
  {
   "cell_type": "code",
   "execution_count": 4,
   "metadata": {},
   "outputs": [
    {
     "data": {
      "text/html": [
       "<div>\n",
       "<style scoped>\n",
       "    .dataframe tbody tr th:only-of-type {\n",
       "        vertical-align: middle;\n",
       "    }\n",
       "\n",
       "    .dataframe tbody tr th {\n",
       "        vertical-align: top;\n",
       "    }\n",
       "\n",
       "    .dataframe thead th {\n",
       "        text-align: right;\n",
       "    }\n",
       "</style>\n",
       "<table border=\"1\" class=\"dataframe\">\n",
       "  <thead>\n",
       "    <tr style=\"text-align: right;\">\n",
       "      <th></th>\n",
       "      <th>receipt_id</th>\n",
       "      <th>company_id</th>\n",
       "      <th>matched_transaction_id</th>\n",
       "      <th>feature_transaction_id</th>\n",
       "      <th>DateMappingMatch</th>\n",
       "      <th>AmountMappingMatch</th>\n",
       "      <th>DescriptionMatch</th>\n",
       "      <th>DifferentPredictedTime</th>\n",
       "      <th>TimeMappingMatch</th>\n",
       "      <th>PredictedNameMatch</th>\n",
       "      <th>ShortNameMatch</th>\n",
       "      <th>DifferentPredictedDate</th>\n",
       "      <th>PredictedAmountMatch</th>\n",
       "      <th>PredictedTimeCloseMatch</th>\n",
       "    </tr>\n",
       "  </thead>\n",
       "  <tbody>\n",
       "    <tr>\n",
       "      <th>0</th>\n",
       "      <td>10000</td>\n",
       "      <td>10000</td>\n",
       "      <td>10468</td>\n",
       "      <td>10000</td>\n",
       "      <td>0.00</td>\n",
       "      <td>0.0</td>\n",
       "      <td>0.0</td>\n",
       "      <td>1.0</td>\n",
       "      <td>0.0</td>\n",
       "      <td>0.0</td>\n",
       "      <td>0.0</td>\n",
       "      <td>1.0</td>\n",
       "      <td>0.0</td>\n",
       "      <td>0.0</td>\n",
       "    </tr>\n",
       "    <tr>\n",
       "      <th>1</th>\n",
       "      <td>10000</td>\n",
       "      <td>10000</td>\n",
       "      <td>10468</td>\n",
       "      <td>10001</td>\n",
       "      <td>0.00</td>\n",
       "      <td>0.0</td>\n",
       "      <td>0.0</td>\n",
       "      <td>1.0</td>\n",
       "      <td>0.0</td>\n",
       "      <td>0.0</td>\n",
       "      <td>0.0</td>\n",
       "      <td>1.0</td>\n",
       "      <td>0.0</td>\n",
       "      <td>0.0</td>\n",
       "    </tr>\n",
       "    <tr>\n",
       "      <th>2</th>\n",
       "      <td>10000</td>\n",
       "      <td>10000</td>\n",
       "      <td>10468</td>\n",
       "      <td>10003</td>\n",
       "      <td>0.00</td>\n",
       "      <td>0.0</td>\n",
       "      <td>0.0</td>\n",
       "      <td>1.0</td>\n",
       "      <td>0.0</td>\n",
       "      <td>0.0</td>\n",
       "      <td>0.0</td>\n",
       "      <td>1.0</td>\n",
       "      <td>0.0</td>\n",
       "      <td>0.0</td>\n",
       "    </tr>\n",
       "    <tr>\n",
       "      <th>3</th>\n",
       "      <td>10000</td>\n",
       "      <td>10000</td>\n",
       "      <td>10468</td>\n",
       "      <td>10004</td>\n",
       "      <td>0.00</td>\n",
       "      <td>0.0</td>\n",
       "      <td>0.0</td>\n",
       "      <td>1.0</td>\n",
       "      <td>0.0</td>\n",
       "      <td>0.0</td>\n",
       "      <td>0.0</td>\n",
       "      <td>1.0</td>\n",
       "      <td>0.0</td>\n",
       "      <td>0.0</td>\n",
       "    </tr>\n",
       "    <tr>\n",
       "      <th>4</th>\n",
       "      <td>10000</td>\n",
       "      <td>10000</td>\n",
       "      <td>10468</td>\n",
       "      <td>10005</td>\n",
       "      <td>0.00</td>\n",
       "      <td>0.0</td>\n",
       "      <td>0.0</td>\n",
       "      <td>1.0</td>\n",
       "      <td>0.0</td>\n",
       "      <td>0.0</td>\n",
       "      <td>0.0</td>\n",
       "      <td>1.0</td>\n",
       "      <td>0.0</td>\n",
       "      <td>0.0</td>\n",
       "    </tr>\n",
       "    <tr>\n",
       "      <th>...</th>\n",
       "      <td>...</td>\n",
       "      <td>...</td>\n",
       "      <td>...</td>\n",
       "      <td>...</td>\n",
       "      <td>...</td>\n",
       "      <td>...</td>\n",
       "      <td>...</td>\n",
       "      <td>...</td>\n",
       "      <td>...</td>\n",
       "      <td>...</td>\n",
       "      <td>...</td>\n",
       "      <td>...</td>\n",
       "      <td>...</td>\n",
       "      <td>...</td>\n",
       "    </tr>\n",
       "    <tr>\n",
       "      <th>12029</th>\n",
       "      <td>50226</td>\n",
       "      <td>50000</td>\n",
       "      <td>50368</td>\n",
       "      <td>50074</td>\n",
       "      <td>0.65</td>\n",
       "      <td>0.0</td>\n",
       "      <td>0.0</td>\n",
       "      <td>1.0</td>\n",
       "      <td>0.0</td>\n",
       "      <td>0.0</td>\n",
       "      <td>0.0</td>\n",
       "      <td>0.0</td>\n",
       "      <td>0.0</td>\n",
       "      <td>0.0</td>\n",
       "    </tr>\n",
       "    <tr>\n",
       "      <th>12030</th>\n",
       "      <td>50226</td>\n",
       "      <td>50000</td>\n",
       "      <td>50368</td>\n",
       "      <td>50075</td>\n",
       "      <td>0.65</td>\n",
       "      <td>0.0</td>\n",
       "      <td>0.0</td>\n",
       "      <td>1.0</td>\n",
       "      <td>0.0</td>\n",
       "      <td>0.0</td>\n",
       "      <td>0.0</td>\n",
       "      <td>0.0</td>\n",
       "      <td>0.0</td>\n",
       "      <td>0.0</td>\n",
       "    </tr>\n",
       "    <tr>\n",
       "      <th>12031</th>\n",
       "      <td>50226</td>\n",
       "      <td>50000</td>\n",
       "      <td>50368</td>\n",
       "      <td>50366</td>\n",
       "      <td>0.00</td>\n",
       "      <td>0.0</td>\n",
       "      <td>0.0</td>\n",
       "      <td>1.0</td>\n",
       "      <td>0.0</td>\n",
       "      <td>0.0</td>\n",
       "      <td>0.0</td>\n",
       "      <td>1.0</td>\n",
       "      <td>0.0</td>\n",
       "      <td>1.0</td>\n",
       "    </tr>\n",
       "    <tr>\n",
       "      <th>12032</th>\n",
       "      <td>50226</td>\n",
       "      <td>50000</td>\n",
       "      <td>50368</td>\n",
       "      <td>50367</td>\n",
       "      <td>0.00</td>\n",
       "      <td>0.0</td>\n",
       "      <td>0.0</td>\n",
       "      <td>1.0</td>\n",
       "      <td>0.0</td>\n",
       "      <td>0.0</td>\n",
       "      <td>0.0</td>\n",
       "      <td>1.0</td>\n",
       "      <td>0.0</td>\n",
       "      <td>0.0</td>\n",
       "    </tr>\n",
       "    <tr>\n",
       "      <th>12033</th>\n",
       "      <td>50226</td>\n",
       "      <td>50000</td>\n",
       "      <td>50368</td>\n",
       "      <td>50368</td>\n",
       "      <td>0.95</td>\n",
       "      <td>0.0</td>\n",
       "      <td>0.0</td>\n",
       "      <td>1.0</td>\n",
       "      <td>0.0</td>\n",
       "      <td>0.0</td>\n",
       "      <td>0.0</td>\n",
       "      <td>0.0</td>\n",
       "      <td>0.0</td>\n",
       "      <td>1.0</td>\n",
       "    </tr>\n",
       "  </tbody>\n",
       "</table>\n",
       "<p>12034 rows × 14 columns</p>\n",
       "</div>"
      ],
      "text/plain": [
       "       receipt_id  company_id  matched_transaction_id  feature_transaction_id  \\\n",
       "0           10000       10000                   10468                   10000   \n",
       "1           10000       10000                   10468                   10001   \n",
       "2           10000       10000                   10468                   10003   \n",
       "3           10000       10000                   10468                   10004   \n",
       "4           10000       10000                   10468                   10005   \n",
       "...           ...         ...                     ...                     ...   \n",
       "12029       50226       50000                   50368                   50074   \n",
       "12030       50226       50000                   50368                   50075   \n",
       "12031       50226       50000                   50368                   50366   \n",
       "12032       50226       50000                   50368                   50367   \n",
       "12033       50226       50000                   50368                   50368   \n",
       "\n",
       "       DateMappingMatch  AmountMappingMatch  DescriptionMatch  \\\n",
       "0                  0.00                 0.0               0.0   \n",
       "1                  0.00                 0.0               0.0   \n",
       "2                  0.00                 0.0               0.0   \n",
       "3                  0.00                 0.0               0.0   \n",
       "4                  0.00                 0.0               0.0   \n",
       "...                 ...                 ...               ...   \n",
       "12029              0.65                 0.0               0.0   \n",
       "12030              0.65                 0.0               0.0   \n",
       "12031              0.00                 0.0               0.0   \n",
       "12032              0.00                 0.0               0.0   \n",
       "12033              0.95                 0.0               0.0   \n",
       "\n",
       "       DifferentPredictedTime  TimeMappingMatch  PredictedNameMatch  \\\n",
       "0                         1.0               0.0                 0.0   \n",
       "1                         1.0               0.0                 0.0   \n",
       "2                         1.0               0.0                 0.0   \n",
       "3                         1.0               0.0                 0.0   \n",
       "4                         1.0               0.0                 0.0   \n",
       "...                       ...               ...                 ...   \n",
       "12029                     1.0               0.0                 0.0   \n",
       "12030                     1.0               0.0                 0.0   \n",
       "12031                     1.0               0.0                 0.0   \n",
       "12032                     1.0               0.0                 0.0   \n",
       "12033                     1.0               0.0                 0.0   \n",
       "\n",
       "       ShortNameMatch  DifferentPredictedDate  PredictedAmountMatch  \\\n",
       "0                 0.0                     1.0                   0.0   \n",
       "1                 0.0                     1.0                   0.0   \n",
       "2                 0.0                     1.0                   0.0   \n",
       "3                 0.0                     1.0                   0.0   \n",
       "4                 0.0                     1.0                   0.0   \n",
       "...               ...                     ...                   ...   \n",
       "12029             0.0                     0.0                   0.0   \n",
       "12030             0.0                     0.0                   0.0   \n",
       "12031             0.0                     1.0                   0.0   \n",
       "12032             0.0                     1.0                   0.0   \n",
       "12033             0.0                     0.0                   0.0   \n",
       "\n",
       "       PredictedTimeCloseMatch  \n",
       "0                          0.0  \n",
       "1                          0.0  \n",
       "2                          0.0  \n",
       "3                          0.0  \n",
       "4                          0.0  \n",
       "...                        ...  \n",
       "12029                      0.0  \n",
       "12030                      0.0  \n",
       "12031                      1.0  \n",
       "12032                      0.0  \n",
       "12033                      1.0  \n",
       "\n",
       "[12034 rows x 14 columns]"
      ]
     },
     "execution_count": 4,
     "metadata": {},
     "output_type": "execute_result"
    }
   ],
   "source": [
    "trans"
   ]
  },
  {
   "cell_type": "code",
   "execution_count": 5,
   "metadata": {},
   "outputs": [
    {
     "name": "stdout",
     "output_type": "stream",
     "text": [
      "The shape of data is as follows : (12034, 14)\n"
     ]
    }
   ],
   "source": [
    "### Print the statistics about the data read\n",
    "print (\"The shape of data is as follows :\", trans.shape)"
   ]
  },
  {
   "cell_type": "markdown",
   "metadata": {},
   "source": [
    "### 1. Looking for Missing values"
   ]
  },
  {
   "cell_type": "code",
   "execution_count": 6,
   "metadata": {},
   "outputs": [
    {
     "name": "stdout",
     "output_type": "stream",
     "text": [
      "<class 'pandas.core.frame.DataFrame'>\n",
      "RangeIndex: 12034 entries, 0 to 12033\n",
      "Data columns (total 14 columns):\n",
      " #   Column                   Non-Null Count  Dtype  \n",
      "---  ------                   --------------  -----  \n",
      " 0   receipt_id               12034 non-null  int64  \n",
      " 1   company_id               12034 non-null  int64  \n",
      " 2   matched_transaction_id   12034 non-null  int64  \n",
      " 3   feature_transaction_id   12034 non-null  int64  \n",
      " 4   DateMappingMatch         12034 non-null  float64\n",
      " 5   AmountMappingMatch       12034 non-null  float64\n",
      " 6   DescriptionMatch         12034 non-null  float64\n",
      " 7   DifferentPredictedTime   12034 non-null  float64\n",
      " 8   TimeMappingMatch         12034 non-null  float64\n",
      " 9   PredictedNameMatch       12034 non-null  float64\n",
      " 10  ShortNameMatch           12034 non-null  float64\n",
      " 11  DifferentPredictedDate   12034 non-null  float64\n",
      " 12  PredictedAmountMatch     12034 non-null  float64\n",
      " 13  PredictedTimeCloseMatch  12034 non-null  float64\n",
      "dtypes: float64(10), int64(4)\n",
      "memory usage: 1.3 MB\n",
      "Give the information on the data required : None\n"
     ]
    }
   ],
   "source": [
    "print (\"Give the information on the data required :\",trans.info())\n"
   ]
  },
  {
   "cell_type": "markdown",
   "metadata": {},
   "source": [
    "#### No Missing values found : Missing value Treatment not required\n",
    "\n",
    "### 2. Looking for Outliers"
   ]
  },
  {
   "cell_type": "code",
   "execution_count": 7,
   "metadata": {},
   "outputs": [
    {
     "name": "stdout",
     "output_type": "stream",
     "text": [
      "Describe the data :          receipt_id    company_id  matched_transaction_id  \\\n",
      "count  12034.000000  12034.000000            12034.000000   \n",
      "mean   27396.264168  27247.797906            27773.908177   \n",
      "std    12037.596520  12024.542988            12014.611971   \n",
      "min    10000.000000  10000.000000            10112.000000   \n",
      "25%    20057.000000  20000.000000            20259.000000   \n",
      "50%    30105.000000  30000.000000            30524.000000   \n",
      "75%    30343.000000  30000.000000            31318.000000   \n",
      "max    50226.000000  50000.000000            50408.000000   \n",
      "\n",
      "       feature_transaction_id  DateMappingMatch  AmountMappingMatch  \\\n",
      "count            12034.000000      12034.000000        12034.000000   \n",
      "mean             27547.608941          0.217901            0.031660   \n",
      "std              12037.734072          0.384535            0.122611   \n",
      "min              10000.000000          0.000000            0.000000   \n",
      "25%              20010.000000          0.000000            0.000000   \n",
      "50%              30104.000000          0.000000            0.000000   \n",
      "75%              31109.000000          0.000000            0.000000   \n",
      "max              50413.000000          1.000000            0.900000   \n",
      "\n",
      "       DescriptionMatch  DifferentPredictedTime  TimeMappingMatch  \\\n",
      "count      12034.000000            12034.000000      12034.000000   \n",
      "mean           0.021522                0.986455          0.013877   \n",
      "std            0.116995                0.115597          0.116987   \n",
      "min            0.000000                0.000000          0.000000   \n",
      "25%            0.000000                1.000000          0.000000   \n",
      "50%            0.000000                1.000000          0.000000   \n",
      "75%            0.000000                1.000000          0.000000   \n",
      "max            0.800000                1.000000          1.000000   \n",
      "\n",
      "       PredictedNameMatch  ShortNameMatch  DifferentPredictedDate  \\\n",
      "count        12034.000000    12034.000000            12034.000000   \n",
      "mean             0.024215        0.037893                0.753532   \n",
      "std              0.128646        0.190945                0.430972   \n",
      "min              0.000000        0.000000                0.000000   \n",
      "25%              0.000000        0.000000                1.000000   \n",
      "50%              0.000000        0.000000                1.000000   \n",
      "75%              0.000000        0.000000                1.000000   \n",
      "max              0.800000        1.000000                1.000000   \n",
      "\n",
      "       PredictedAmountMatch  PredictedTimeCloseMatch  \n",
      "count          12034.000000             12034.000000  \n",
      "mean               0.001005                 0.076533  \n",
      "std                0.020134                 0.265860  \n",
      "min                0.000000                 0.000000  \n",
      "25%                0.000000                 0.000000  \n",
      "50%                0.000000                 0.000000  \n",
      "75%                0.000000                 0.000000  \n",
      "max                0.600000                 1.000000  \n"
     ]
    }
   ],
   "source": [
    "print (\"Describe the data :\", trans.describe())"
   ]
  },
  {
   "cell_type": "code",
   "execution_count": 8,
   "metadata": {},
   "outputs": [
    {
     "data": {
      "image/png": "[encoded data removed]",
      "text/plain": [
       "<Figure size 432x288 with 1 Axes>"
      ]
     },
     "metadata": {
      "needs_background": "light"
     },
     "output_type": "display_data"
    }
   ],
   "source": [
    "boxplot = trans.boxplot(column=['DateMappingMatch', 'AmountMappingMatch', 'DescriptionMatch',\n",
    "       'DifferentPredictedTime', 'TimeMappingMatch', 'PredictedNameMatch',\n",
    "       'ShortNameMatch', 'DifferentPredictedDate', 'PredictedAmountMatch',\n",
    "       'PredictedTimeCloseMatch'], rot=90)"
   ]
  },
  {
   "cell_type": "markdown",
   "metadata": {},
   "source": [
    "#### No Outliers found : Outlier Treatment not required"
   ]
  },
  {
   "cell_type": "markdown",
   "metadata": {},
   "source": [
    "### 3. Create target variable for the model\n",
    "\n",
    "#### Target definition: If the  matched transaction id is equal to feature transaction id then 1 else 0"
   ]
  },
  {
   "cell_type": "code",
   "execution_count": 9,
   "metadata": {},
   "outputs": [
    {
     "data": {
      "text/plain": [
       "0    11177\n",
       "1      857\n",
       "Name: target, dtype: int64"
      ]
     },
     "execution_count": 9,
     "metadata": {},
     "output_type": "execute_result"
    }
   ],
   "source": [
    "trans['target'] = trans.apply(lambda x: 1 if (x.matched_transaction_id==x.feature_transaction_id)  else 0,axis=1)\n",
    "target = trans[\"target\"].value_counts()\n",
    "target"
   ]
  },
  {
   "cell_type": "code",
   "execution_count": 10,
   "metadata": {},
   "outputs": [
    {
     "data": {
      "image/png": "[encoded data removed]",
      "text/plain": [
       "<Figure size 432x288 with 1 Axes>"
      ]
     },
     "metadata": {
      "needs_background": "light"
     },
     "output_type": "display_data"
    }
   ],
   "source": [
    "boxplot = trans[trans['target'] == 0].boxplot(column=['DateMappingMatch', 'AmountMappingMatch', 'DescriptionMatch',\n",
    "       'DifferentPredictedTime', 'TimeMappingMatch', 'PredictedNameMatch',\n",
    "       'ShortNameMatch', 'DifferentPredictedDate', 'PredictedAmountMatch',\n",
    "       'PredictedTimeCloseMatch'], rot=90)"
   ]
  },
  {
   "cell_type": "code",
   "execution_count": 11,
   "metadata": {},
   "outputs": [
    {
     "data": {
      "image/png": "[encoded data removed]",
      "text/plain": [
       "<Figure size 432x288 with 1 Axes>"
      ]
     },
     "metadata": {
      "needs_background": "light"
     },
     "output_type": "display_data"
    }
   ],
   "source": [
    "boxplot = trans[trans['target'] == 1].boxplot(column=['DateMappingMatch', 'AmountMappingMatch', 'DescriptionMatch',\n",
    "       'DifferentPredictedTime', 'TimeMappingMatch', 'PredictedNameMatch',\n",
    "       'ShortNameMatch', 'DifferentPredictedDate', 'PredictedAmountMatch',\n",
    "       'PredictedTimeCloseMatch'], rot=90)"
   ]
  },
  {
   "cell_type": "markdown",
   "metadata": {},
   "source": [
    "#### If we compare the box plot for data where target = 0 and where target = 1 , we find that there is a huge difference in values of the feature DifferentPredictDate. \n",
    "\n",
    "#### If  DifferentPredictDate is 0 then it is most likely the target is 0 ( in correct match) . This might come out as an important variable for model"
   ]
  },
  {
   "cell_type": "code",
   "execution_count": 12,
   "metadata": {},
   "outputs": [
    {
     "data": {
      "text/html": [
       "<div>\n",
       "<style scoped>\n",
       "    .dataframe tbody tr th:only-of-type {\n",
       "        vertical-align: middle;\n",
       "    }\n",
       "\n",
       "    .dataframe tbody tr th {\n",
       "        vertical-align: top;\n",
       "    }\n",
       "\n",
       "    .dataframe thead th {\n",
       "        text-align: right;\n",
       "    }\n",
       "</style>\n",
       "<table border=\"1\" class=\"dataframe\">\n",
       "  <thead>\n",
       "    <tr style=\"text-align: right;\">\n",
       "      <th></th>\n",
       "      <th>DateMappingMatch</th>\n",
       "      <th>AmountMappingMatch</th>\n",
       "      <th>DescriptionMatch</th>\n",
       "      <th>DifferentPredictedTime</th>\n",
       "      <th>TimeMappingMatch</th>\n",
       "      <th>PredictedNameMatch</th>\n",
       "      <th>ShortNameMatch</th>\n",
       "      <th>DifferentPredictedDate</th>\n",
       "      <th>PredictedAmountMatch</th>\n",
       "      <th>PredictedTimeCloseMatch</th>\n",
       "      <th>target</th>\n",
       "    </tr>\n",
       "  </thead>\n",
       "  <tbody>\n",
       "    <tr>\n",
       "      <th>0</th>\n",
       "      <td>0.0</td>\n",
       "      <td>0.0</td>\n",
       "      <td>0.0</td>\n",
       "      <td>1.0</td>\n",
       "      <td>0.0</td>\n",
       "      <td>0.0</td>\n",
       "      <td>0.0</td>\n",
       "      <td>1.0</td>\n",
       "      <td>0.0</td>\n",
       "      <td>0.0</td>\n",
       "      <td>0</td>\n",
       "    </tr>\n",
       "    <tr>\n",
       "      <th>1</th>\n",
       "      <td>0.0</td>\n",
       "      <td>0.0</td>\n",
       "      <td>0.0</td>\n",
       "      <td>1.0</td>\n",
       "      <td>0.0</td>\n",
       "      <td>0.0</td>\n",
       "      <td>0.0</td>\n",
       "      <td>1.0</td>\n",
       "      <td>0.0</td>\n",
       "      <td>0.0</td>\n",
       "      <td>0</td>\n",
       "    </tr>\n",
       "    <tr>\n",
       "      <th>2</th>\n",
       "      <td>0.0</td>\n",
       "      <td>0.0</td>\n",
       "      <td>0.0</td>\n",
       "      <td>1.0</td>\n",
       "      <td>0.0</td>\n",
       "      <td>0.0</td>\n",
       "      <td>0.0</td>\n",
       "      <td>1.0</td>\n",
       "      <td>0.0</td>\n",
       "      <td>0.0</td>\n",
       "      <td>0</td>\n",
       "    </tr>\n",
       "    <tr>\n",
       "      <th>3</th>\n",
       "      <td>0.0</td>\n",
       "      <td>0.0</td>\n",
       "      <td>0.0</td>\n",
       "      <td>1.0</td>\n",
       "      <td>0.0</td>\n",
       "      <td>0.0</td>\n",
       "      <td>0.0</td>\n",
       "      <td>1.0</td>\n",
       "      <td>0.0</td>\n",
       "      <td>0.0</td>\n",
       "      <td>0</td>\n",
       "    </tr>\n",
       "    <tr>\n",
       "      <th>4</th>\n",
       "      <td>0.0</td>\n",
       "      <td>0.0</td>\n",
       "      <td>0.0</td>\n",
       "      <td>1.0</td>\n",
       "      <td>0.0</td>\n",
       "      <td>0.0</td>\n",
       "      <td>0.0</td>\n",
       "      <td>1.0</td>\n",
       "      <td>0.0</td>\n",
       "      <td>0.0</td>\n",
       "      <td>0</td>\n",
       "    </tr>\n",
       "  </tbody>\n",
       "</table>\n",
       "</div>"
      ],
      "text/plain": [
       "   DateMappingMatch  AmountMappingMatch  DescriptionMatch  \\\n",
       "0               0.0                 0.0               0.0   \n",
       "1               0.0                 0.0               0.0   \n",
       "2               0.0                 0.0               0.0   \n",
       "3               0.0                 0.0               0.0   \n",
       "4               0.0                 0.0               0.0   \n",
       "\n",
       "   DifferentPredictedTime  TimeMappingMatch  PredictedNameMatch  \\\n",
       "0                     1.0               0.0                 0.0   \n",
       "1                     1.0               0.0                 0.0   \n",
       "2                     1.0               0.0                 0.0   \n",
       "3                     1.0               0.0                 0.0   \n",
       "4                     1.0               0.0                 0.0   \n",
       "\n",
       "   ShortNameMatch  DifferentPredictedDate  PredictedAmountMatch  \\\n",
       "0             0.0                     1.0                   0.0   \n",
       "1             0.0                     1.0                   0.0   \n",
       "2             0.0                     1.0                   0.0   \n",
       "3             0.0                     1.0                   0.0   \n",
       "4             0.0                     1.0                   0.0   \n",
       "\n",
       "   PredictedTimeCloseMatch  target  \n",
       "0                      0.0       0  \n",
       "1                      0.0       0  \n",
       "2                      0.0       0  \n",
       "3                      0.0       0  \n",
       "4                      0.0       0  "
      ]
     },
     "execution_count": 12,
     "metadata": {},
     "output_type": "execute_result"
    }
   ],
   "source": [
    "####  delete unnecessary columns\n",
    "\n",
    "trans.drop(['receipt_id','company_id','matched_transaction_id','feature_transaction_id'],inplace=True,axis=1)\n",
    "trans.head()"
   ]
  },
  {
   "cell_type": "markdown",
   "metadata": {},
   "source": [
    "### 4. One hot encoding\n",
    "\n"
   ]
  },
  {
   "cell_type": "markdown",
   "metadata": {},
   "source": [
    "### No need to convert the categorical variable to one hot dummy encoding as it only has 1,0 as values"
   ]
  },
  {
   "cell_type": "markdown",
   "metadata": {},
   "source": [
    "### Validation base: Keeping 20% of the data aside for validation"
   ]
  },
  {
   "cell_type": "code",
   "execution_count": 13,
   "metadata": {},
   "outputs": [],
   "source": [
    "from sklearn.model_selection import train_test_split\n",
    "\n",
    "model_data, val_data = train_test_split(trans, test_size=0.2)"
   ]
  },
  {
   "cell_type": "code",
   "execution_count": 14,
   "metadata": {},
   "outputs": [
    {
     "data": {
      "text/plain": [
       "(9627, 11)"
      ]
     },
     "execution_count": 14,
     "metadata": {},
     "output_type": "execute_result"
    }
   ],
   "source": [
    "model_data.shape"
   ]
  },
  {
   "cell_type": "code",
   "execution_count": 15,
   "metadata": {},
   "outputs": [
    {
     "data": {
      "text/plain": [
       "(2407, 11)"
      ]
     },
     "execution_count": 15,
     "metadata": {},
     "output_type": "execute_result"
    }
   ],
   "source": [
    "val_data.shape"
   ]
  },
  {
   "cell_type": "code",
   "execution_count": 16,
   "metadata": {},
   "outputs": [
    {
     "data": {
      "text/plain": [
       "0    8934\n",
       "1     693\n",
       "Name: target, dtype: int64"
      ]
     },
     "execution_count": 16,
     "metadata": {},
     "output_type": "execute_result"
    }
   ],
   "source": [
    "model_data[\"target\"].value_counts()"
   ]
  },
  {
   "cell_type": "code",
   "execution_count": 17,
   "metadata": {},
   "outputs": [
    {
     "name": "stderr",
     "output_type": "stream",
     "text": [
      "C:\\Users\\hp\\anaconda3\\lib\\site-packages\\pandas\\core\\frame.py:4163: SettingWithCopyWarning: \n",
      "A value is trying to be set on a copy of a slice from a DataFrame\n",
      "\n",
      "See the caveats in the documentation: https://pandas.pydata.org/pandas-docs/stable/user_guide/indexing.html#returning-a-view-versus-a-copy\n",
      "  return super().drop(\n"
     ]
    },
    {
     "data": {
      "text/html": [
       "<div>\n",
       "<style scoped>\n",
       "    .dataframe tbody tr th:only-of-type {\n",
       "        vertical-align: middle;\n",
       "    }\n",
       "\n",
       "    .dataframe tbody tr th {\n",
       "        vertical-align: top;\n",
       "    }\n",
       "\n",
       "    .dataframe thead th {\n",
       "        text-align: right;\n",
       "    }\n",
       "</style>\n",
       "<table border=\"1\" class=\"dataframe\">\n",
       "  <thead>\n",
       "    <tr style=\"text-align: right;\">\n",
       "      <th></th>\n",
       "      <th>DateMappingMatch</th>\n",
       "      <th>AmountMappingMatch</th>\n",
       "      <th>DescriptionMatch</th>\n",
       "      <th>DifferentPredictedTime</th>\n",
       "      <th>TimeMappingMatch</th>\n",
       "      <th>PredictedNameMatch</th>\n",
       "      <th>ShortNameMatch</th>\n",
       "      <th>DifferentPredictedDate</th>\n",
       "      <th>PredictedAmountMatch</th>\n",
       "      <th>PredictedTimeCloseMatch</th>\n",
       "    </tr>\n",
       "  </thead>\n",
       "  <tbody>\n",
       "    <tr>\n",
       "      <th>7646</th>\n",
       "      <td>0.00</td>\n",
       "      <td>0.0</td>\n",
       "      <td>0.0</td>\n",
       "      <td>1.0</td>\n",
       "      <td>0.0</td>\n",
       "      <td>0.0</td>\n",
       "      <td>0.0</td>\n",
       "      <td>1.0</td>\n",
       "      <td>0.0</td>\n",
       "      <td>0.0</td>\n",
       "    </tr>\n",
       "    <tr>\n",
       "      <th>8701</th>\n",
       "      <td>0.00</td>\n",
       "      <td>0.0</td>\n",
       "      <td>0.0</td>\n",
       "      <td>1.0</td>\n",
       "      <td>0.0</td>\n",
       "      <td>0.0</td>\n",
       "      <td>0.0</td>\n",
       "      <td>1.0</td>\n",
       "      <td>0.0</td>\n",
       "      <td>0.0</td>\n",
       "    </tr>\n",
       "    <tr>\n",
       "      <th>10830</th>\n",
       "      <td>0.95</td>\n",
       "      <td>0.0</td>\n",
       "      <td>0.0</td>\n",
       "      <td>1.0</td>\n",
       "      <td>0.0</td>\n",
       "      <td>0.0</td>\n",
       "      <td>0.0</td>\n",
       "      <td>0.0</td>\n",
       "      <td>0.0</td>\n",
       "      <td>1.0</td>\n",
       "    </tr>\n",
       "    <tr>\n",
       "      <th>9807</th>\n",
       "      <td>0.95</td>\n",
       "      <td>0.0</td>\n",
       "      <td>0.0</td>\n",
       "      <td>1.0</td>\n",
       "      <td>0.0</td>\n",
       "      <td>0.0</td>\n",
       "      <td>0.0</td>\n",
       "      <td>0.0</td>\n",
       "      <td>0.0</td>\n",
       "      <td>0.0</td>\n",
       "    </tr>\n",
       "    <tr>\n",
       "      <th>3508</th>\n",
       "      <td>0.00</td>\n",
       "      <td>0.0</td>\n",
       "      <td>0.0</td>\n",
       "      <td>1.0</td>\n",
       "      <td>0.0</td>\n",
       "      <td>0.0</td>\n",
       "      <td>0.0</td>\n",
       "      <td>1.0</td>\n",
       "      <td>0.0</td>\n",
       "      <td>0.0</td>\n",
       "    </tr>\n",
       "  </tbody>\n",
       "</table>\n",
       "</div>"
      ],
      "text/plain": [
       "       DateMappingMatch  AmountMappingMatch  DescriptionMatch  \\\n",
       "7646               0.00                 0.0               0.0   \n",
       "8701               0.00                 0.0               0.0   \n",
       "10830              0.95                 0.0               0.0   \n",
       "9807               0.95                 0.0               0.0   \n",
       "3508               0.00                 0.0               0.0   \n",
       "\n",
       "       DifferentPredictedTime  TimeMappingMatch  PredictedNameMatch  \\\n",
       "7646                      1.0               0.0                 0.0   \n",
       "8701                      1.0               0.0                 0.0   \n",
       "10830                     1.0               0.0                 0.0   \n",
       "9807                      1.0               0.0                 0.0   \n",
       "3508                      1.0               0.0                 0.0   \n",
       "\n",
       "       ShortNameMatch  DifferentPredictedDate  PredictedAmountMatch  \\\n",
       "7646              0.0                     1.0                   0.0   \n",
       "8701              0.0                     1.0                   0.0   \n",
       "10830             0.0                     0.0                   0.0   \n",
       "9807              0.0                     0.0                   0.0   \n",
       "3508              0.0                     1.0                   0.0   \n",
       "\n",
       "       PredictedTimeCloseMatch  \n",
       "7646                       0.0  \n",
       "8701                       0.0  \n",
       "10830                      1.0  \n",
       "9807                       0.0  \n",
       "3508                       0.0  "
      ]
     },
     "execution_count": 17,
     "metadata": {},
     "output_type": "execute_result"
    }
   ],
   "source": [
    "Y_val = val_data['target']\n",
    "val_data.drop(['target'],inplace=True,axis=1)\n",
    "val_data.head()"
   ]
  },
  {
   "cell_type": "markdown",
   "metadata": {},
   "source": [
    "### 5. Balance Imbalance Class\n",
    "\n",
    "### This is a case of imbalance classification problem. \n",
    "\n",
    "#### The target here is 0 and 1 hence it is a classification problem\n",
    "\n",
    "#### An imbalanced classification problem is an example of a classification problem where the distribution of target is biased or skewed. \n",
    "#### Here the target has 7.1% amd 82.9% distribution\n",
    "\n",
    "#### There are various methods to tackle this . I chose Oversampling than undersampling as the number of data points available are less\n",
    "\n",
    "#### Random oversampling involves randomly duplicating examples from the minority class and adding them to the training dataset."
   ]
  },
  {
   "cell_type": "code",
   "execution_count": 18,
   "metadata": {},
   "outputs": [
    {
     "name": "stdout",
     "output_type": "stream",
     "text": [
      "(8934, 11)\n",
      "(693, 11)\n"
     ]
    }
   ],
   "source": [
    "model_majority = model_data[model_data['target']==0.0]\n",
    "print(model_majority.shape)\n",
    "\n",
    "model_minority = model_data[model_data['target']!=0.0]\n",
    "print(model_minority.shape)"
   ]
  },
  {
   "cell_type": "code",
   "execution_count": 20,
   "metadata": {},
   "outputs": [
    {
     "data": {
      "text/plain": [
       "0    8934\n",
       "1    3465\n",
       "Name: target, dtype: int64"
      ]
     },
     "execution_count": 20,
     "metadata": {},
     "output_type": "execute_result"
    }
   ],
   "source": [
    "\n",
    "from sklearn.utils import resample\n",
    "# Oversample minority class\n",
    "model_minority_oversampled = resample(model_minority, \n",
    "                                 replace=True,   \n",
    "                                 n_samples=693*5,     # to get 30% minority class\n",
    "                                 random_state=123) # reproducible results\n",
    " \n",
    "# # Combine majority class with oversampled minority class\n",
    "model_oversampled = pd.concat([model_minority_oversampled, model_majority])\n",
    " \n",
    "model_oversampled.target.value_counts()"
   ]
  },
  {
   "cell_type": "code",
   "execution_count": 21,
   "metadata": {},
   "outputs": [
    {
     "data": {
      "text/html": [
       "<div>\n",
       "<style scoped>\n",
       "    .dataframe tbody tr th:only-of-type {\n",
       "        vertical-align: middle;\n",
       "    }\n",
       "\n",
       "    .dataframe tbody tr th {\n",
       "        vertical-align: top;\n",
       "    }\n",
       "\n",
       "    .dataframe thead th {\n",
       "        text-align: right;\n",
       "    }\n",
       "</style>\n",
       "<table border=\"1\" class=\"dataframe\">\n",
       "  <thead>\n",
       "    <tr style=\"text-align: right;\">\n",
       "      <th></th>\n",
       "      <th>DateMappingMatch</th>\n",
       "      <th>AmountMappingMatch</th>\n",
       "      <th>DescriptionMatch</th>\n",
       "      <th>DifferentPredictedTime</th>\n",
       "      <th>TimeMappingMatch</th>\n",
       "      <th>PredictedNameMatch</th>\n",
       "      <th>ShortNameMatch</th>\n",
       "      <th>DifferentPredictedDate</th>\n",
       "      <th>PredictedAmountMatch</th>\n",
       "      <th>PredictedTimeCloseMatch</th>\n",
       "    </tr>\n",
       "  </thead>\n",
       "  <tbody>\n",
       "    <tr>\n",
       "      <th>7589</th>\n",
       "      <td>0.850</td>\n",
       "      <td>0.0</td>\n",
       "      <td>0.0</td>\n",
       "      <td>1.0</td>\n",
       "      <td>0.0</td>\n",
       "      <td>0.0</td>\n",
       "      <td>0.0</td>\n",
       "      <td>0.0</td>\n",
       "      <td>0.0</td>\n",
       "      <td>0.0</td>\n",
       "    </tr>\n",
       "    <tr>\n",
       "      <th>9296</th>\n",
       "      <td>0.950</td>\n",
       "      <td>0.0</td>\n",
       "      <td>0.0</td>\n",
       "      <td>0.0</td>\n",
       "      <td>1.0</td>\n",
       "      <td>0.0</td>\n",
       "      <td>0.0</td>\n",
       "      <td>0.0</td>\n",
       "      <td>0.0</td>\n",
       "      <td>1.0</td>\n",
       "    </tr>\n",
       "    <tr>\n",
       "      <th>3622</th>\n",
       "      <td>0.950</td>\n",
       "      <td>0.0</td>\n",
       "      <td>0.0</td>\n",
       "      <td>1.0</td>\n",
       "      <td>0.0</td>\n",
       "      <td>0.0</td>\n",
       "      <td>0.0</td>\n",
       "      <td>0.0</td>\n",
       "      <td>0.0</td>\n",
       "      <td>0.0</td>\n",
       "    </tr>\n",
       "    <tr>\n",
       "      <th>10905</th>\n",
       "      <td>0.950</td>\n",
       "      <td>0.0</td>\n",
       "      <td>0.8</td>\n",
       "      <td>1.0</td>\n",
       "      <td>0.0</td>\n",
       "      <td>0.0</td>\n",
       "      <td>1.0</td>\n",
       "      <td>0.0</td>\n",
       "      <td>0.0</td>\n",
       "      <td>0.0</td>\n",
       "    </tr>\n",
       "    <tr>\n",
       "      <th>7946</th>\n",
       "      <td>0.825</td>\n",
       "      <td>0.0</td>\n",
       "      <td>0.8</td>\n",
       "      <td>1.0</td>\n",
       "      <td>0.0</td>\n",
       "      <td>0.8</td>\n",
       "      <td>0.0</td>\n",
       "      <td>0.0</td>\n",
       "      <td>0.0</td>\n",
       "      <td>0.0</td>\n",
       "    </tr>\n",
       "  </tbody>\n",
       "</table>\n",
       "</div>"
      ],
      "text/plain": [
       "       DateMappingMatch  AmountMappingMatch  DescriptionMatch  \\\n",
       "7589              0.850                 0.0               0.0   \n",
       "9296              0.950                 0.0               0.0   \n",
       "3622              0.950                 0.0               0.0   \n",
       "10905             0.950                 0.0               0.8   \n",
       "7946              0.825                 0.0               0.8   \n",
       "\n",
       "       DifferentPredictedTime  TimeMappingMatch  PredictedNameMatch  \\\n",
       "7589                      1.0               0.0                 0.0   \n",
       "9296                      0.0               1.0                 0.0   \n",
       "3622                      1.0               0.0                 0.0   \n",
       "10905                     1.0               0.0                 0.0   \n",
       "7946                      1.0               0.0                 0.8   \n",
       "\n",
       "       ShortNameMatch  DifferentPredictedDate  PredictedAmountMatch  \\\n",
       "7589              0.0                     0.0                   0.0   \n",
       "9296              0.0                     0.0                   0.0   \n",
       "3622              0.0                     0.0                   0.0   \n",
       "10905             1.0                     0.0                   0.0   \n",
       "7946              0.0                     0.0                   0.0   \n",
       "\n",
       "       PredictedTimeCloseMatch  \n",
       "7589                       0.0  \n",
       "9296                       1.0  \n",
       "3622                       0.0  \n",
       "10905                      0.0  \n",
       "7946                       0.0  "
      ]
     },
     "execution_count": 21,
     "metadata": {},
     "output_type": "execute_result"
    }
   ],
   "source": [
    "target = model_oversampled['target']\n",
    "model_oversampled.drop(['target'],inplace=True,axis=1)\n",
    "model_oversampled.head()"
   ]
  },
  {
   "cell_type": "markdown",
   "metadata": {},
   "source": [
    "### Test Train Split\n",
    "\n",
    "####  70:30 split is preferable in most cases, but due to less datapointd in  training set I am are using 80:20"
   ]
  },
  {
   "cell_type": "code",
   "execution_count": 22,
   "metadata": {},
   "outputs": [
    {
     "name": "stdout",
     "output_type": "stream",
     "text": [
      "Training set has  samples 9919\n",
      "Testing set has  samples   2480\n"
     ]
    }
   ],
   "source": [
    "from sklearn.model_selection import train_test_split\n",
    "# Split the 'features' and 'income' data into training and testing sets\n",
    "X_train, X_test, y_train, y_test = train_test_split(model_oversampled, \n",
    "                                                    target, \n",
    "                                                    test_size = 0.2, \n",
    "                                                    random_state = 0,stratify = target)\n",
    "\n",
    "# Show the results of the split\n",
    "print (\"Training set has  samples\", X_train.shape[0])\n",
    "print (\"Testing set has  samples  \",X_test.shape[0])"
   ]
  },
  {
   "cell_type": "markdown",
   "metadata": {},
   "source": [
    "### 6. Trying out a Linear model in Logistic Regression"
   ]
  },
  {
   "cell_type": "code",
   "execution_count": 23,
   "metadata": {},
   "outputs": [],
   "source": [
    "\n",
    "from sklearn import linear_model\n",
    "\n",
    "clf_A =  linear_model.LogisticRegressionCV(solver='lbfgs',random_state=40)\n",
    "learner_A = clf_A.fit(X_train, y_train)"
   ]
  },
  {
   "cell_type": "markdown",
   "metadata": {},
   "source": [
    "#### Making the prediction on test data"
   ]
  },
  {
   "cell_type": "code",
   "execution_count": 24,
   "metadata": {},
   "outputs": [
    {
     "name": "stdout",
     "output_type": "stream",
     "text": [
      "[1 0 0 ... 0 1 0]\n",
      "              precision    recall  f1-score   support\n",
      "\n",
      "           0       0.94      0.89      0.91      1787\n",
      "           1       0.74      0.86      0.80       693\n",
      "\n",
      "    accuracy                           0.88      2480\n",
      "   macro avg       0.84      0.87      0.86      2480\n",
      "weighted avg       0.89      0.88      0.88      2480\n",
      "\n"
     ]
    }
   ],
   "source": [
    "\n",
    "ypred = learner_A.predict(X_test,)\n",
    "\n",
    "print(ypred)\n",
    "\n",
    "#### Round off values i.e. 1 for values greater than 0.5 probability\n",
    "predictions = [round(value) for value in ypred]\n",
    "\n",
    "#### precison & Recall\n",
    "\n",
    "from sklearn.metrics import classification_report\n",
    "\n",
    "print(classification_report(y_test, predictions))"
   ]
  },
  {
   "cell_type": "markdown",
   "metadata": {},
   "source": [
    "#### Make the prediction on validation data"
   ]
  },
  {
   "cell_type": "code",
   "execution_count": 25,
   "metadata": {},
   "outputs": [
    {
     "name": "stdout",
     "output_type": "stream",
     "text": [
      "[0 0 1 ... 0 0 0]\n",
      "              precision    recall  f1-score   support\n",
      "\n",
      "           0       0.99      0.89      0.94      2243\n",
      "           1       0.37      0.86      0.52       164\n",
      "\n",
      "    accuracy                           0.89      2407\n",
      "   macro avg       0.68      0.88      0.73      2407\n",
      "weighted avg       0.95      0.89      0.91      2407\n",
      "\n"
     ]
    }
   ],
   "source": [
    "\n",
    "ypred_val = learner_A.predict(val_data,)\n",
    "\n",
    "print(ypred_val)\n",
    "\n",
    "#### Round off values i.e. 1 for values greater than 0.5 probability\n",
    "predictions_val = [round(value) for value in ypred_val]\n",
    "\n",
    "#### precison & Recall\n",
    "\n",
    "from sklearn.metrics import classification_report\n",
    "\n",
    "print(classification_report(Y_val, predictions_val))"
   ]
  },
  {
   "cell_type": "markdown",
   "metadata": {},
   "source": [
    "### 7. Trying out a Decision Tree model in Random Forest"
   ]
  },
  {
   "cell_type": "code",
   "execution_count": 26,
   "metadata": {},
   "outputs": [],
   "source": [
    "\n",
    "from sklearn.ensemble import RandomForestClassifier\n",
    "\n",
    "clf_B =  RandomForestClassifier(random_state=40)\n",
    "learner_B = clf_B.fit(X_train, y_train)"
   ]
  },
  {
   "cell_type": "markdown",
   "metadata": {},
   "source": [
    "#### Making the prediction on test data"
   ]
  },
  {
   "cell_type": "code",
   "execution_count": 27,
   "metadata": {},
   "outputs": [
    {
     "name": "stdout",
     "output_type": "stream",
     "text": [
      "[1 0 0 ... 0 0 0]\n",
      "              precision    recall  f1-score   support\n",
      "\n",
      "           0       0.89      0.96      0.92      1787\n",
      "           1       0.87      0.70      0.77       693\n",
      "\n",
      "    accuracy                           0.89      2480\n",
      "   macro avg       0.88      0.83      0.85      2480\n",
      "weighted avg       0.88      0.89      0.88      2480\n",
      "\n"
     ]
    }
   ],
   "source": [
    "\n",
    "ypred_rf = learner_B.predict(X_test,)\n",
    "\n",
    "print(ypred_rf)\n",
    "\n",
    "#### Round off values i.e. 1 for values greater than 0.5 probability\n",
    "predictions_ref = [round(value) for value in ypred_rf]\n",
    "\n",
    "#### precison & Recall\n",
    "\n",
    "from sklearn.metrics import classification_report\n",
    "\n",
    "print(classification_report(y_test, predictions_ref))"
   ]
  },
  {
   "cell_type": "markdown",
   "metadata": {},
   "source": [
    "#### Make the prediction on validation data"
   ]
  },
  {
   "cell_type": "code",
   "execution_count": 28,
   "metadata": {},
   "outputs": [
    {
     "name": "stdout",
     "output_type": "stream",
     "text": [
      "[0 0 1 ... 0 0 0]\n",
      "              precision    recall  f1-score   support\n",
      "\n",
      "           0       0.98      0.95      0.97      2243\n",
      "           1       0.53      0.69      0.60       164\n",
      "\n",
      "    accuracy                           0.94      2407\n",
      "   macro avg       0.75      0.82      0.78      2407\n",
      "weighted avg       0.95      0.94      0.94      2407\n",
      "\n"
     ]
    }
   ],
   "source": [
    "\n",
    "ypred_rf_val = learner_B.predict(val_data,)\n",
    "\n",
    "print(ypred_rf_val)\n",
    "\n",
    "#### Round off values i.e. 1 for values greater than 0.5 probability\n",
    "predictions_rf_val = [round(value) for value in ypred_rf_val]\n",
    "\n",
    "#### precison & Recall\n",
    "\n",
    "from sklearn.metrics import classification_report\n",
    "\n",
    "print(classification_report(Y_val, predictions_rf_val))"
   ]
  },
  {
   "cell_type": "markdown",
   "metadata": {},
   "source": [
    "#### We are doing better than Logistic model , lets try a boosting model"
   ]
  },
  {
   "cell_type": "markdown",
   "metadata": {},
   "source": [
    "### 8. Trying out a Boosted Decision Tree model in XG Boost"
   ]
  },
  {
   "cell_type": "code",
   "execution_count": 29,
   "metadata": {},
   "outputs": [
    {
     "name": "stderr",
     "output_type": "stream",
     "text": [
      "C:\\Users\\hp\\anaconda3\\lib\\site-packages\\xgboost\\sklearn.py:888: UserWarning: The use of label encoder in XGBClassifier is deprecated and will be removed in a future release. To remove this warning, do the following: 1) Pass option use_label_encoder=False when constructing XGBClassifier object; and 2) Encode your labels (y) as integers starting with 0, i.e. 0, 1, 2, ..., [num_class - 1].\n",
      "  warnings.warn(label_encoder_deprecation_msg, UserWarning)\n"
     ]
    }
   ],
   "source": [
    "import xgboost as xgb\n",
    "from xgboost import XGBClassifier\n",
    "from xgboost.sklearn import XGBClassifier\n",
    "\n",
    "clf_c = XGBClassifier(eval_metric='logloss',random_state = 40)\n",
    "learner_C=clf_c.fit(X_train, y_train)"
   ]
  },
  {
   "cell_type": "code",
   "execution_count": 30,
   "metadata": {},
   "outputs": [],
   "source": [
    "# import xgboost as xgb\n",
    "# from xgboost import XGBClassifier\n",
    "# from xgboost.sklearn import XGBClassifier\n",
    "\n",
    "# clf_c = XGBClassifier(base_score = 0.5,booster = 'gbtree',colsample_bylevel=1,colsample_bytree=0.5,gamma=0,\n",
    "#                       learning_rate=0.05,max_delta_step = 0 ,max_depth = 5, min_child_weight=5,missing = None,n_estimators = 200,\n",
    "#                       n_jobs = -1,nthread = None,objective = 'binary:logistic',eval_metric='logloss',\n",
    "#                       random_state = 0,reg_alpha=1,reg_lambda = 1,scale_pos_weight =1,seed=None,subsample = 1)\n",
    "# learner_C=clf_c.fit(X_train, y_train)"
   ]
  },
  {
   "cell_type": "markdown",
   "metadata": {},
   "source": [
    "#### Making the prediction on test data"
   ]
  },
  {
   "cell_type": "code",
   "execution_count": 31,
   "metadata": {},
   "outputs": [
    {
     "name": "stdout",
     "output_type": "stream",
     "text": [
      "[1 0 0 ... 0 0 0]\n",
      "              precision    recall  f1-score   support\n",
      "\n",
      "           0       0.89      0.96      0.92      1787\n",
      "           1       0.86      0.70      0.77       693\n",
      "\n",
      "    accuracy                           0.89      2480\n",
      "   macro avg       0.88      0.83      0.85      2480\n",
      "weighted avg       0.88      0.89      0.88      2480\n",
      "\n"
     ]
    }
   ],
   "source": [
    "\n",
    "ypred_xgb = learner_C.predict(X_test,)\n",
    "\n",
    "print(ypred_xgb)\n",
    "\n",
    "#### Round off values i.e. 1 for values greater than 0.5 probability\n",
    "predictions_xgb = [round(value) for value in ypred_xgb]\n",
    "\n",
    "#### precison & Recall\n",
    "\n",
    "print(classification_report(y_test, predictions_xgb))"
   ]
  },
  {
   "cell_type": "markdown",
   "metadata": {},
   "source": [
    "#### Make the prediction on validation data"
   ]
  },
  {
   "cell_type": "code",
   "execution_count": 32,
   "metadata": {},
   "outputs": [
    {
     "name": "stdout",
     "output_type": "stream",
     "text": [
      "[0 0 1 ... 0 0 0]\n",
      "              precision    recall  f1-score   support\n",
      "\n",
      "           0       0.98      0.95      0.97      2243\n",
      "           1       0.53      0.70      0.60       164\n",
      "\n",
      "    accuracy                           0.94      2407\n",
      "   macro avg       0.75      0.82      0.78      2407\n",
      "weighted avg       0.95      0.94      0.94      2407\n",
      "\n"
     ]
    }
   ],
   "source": [
    "\n",
    "ypred_xgb_val = learner_C.predict(val_data,)\n",
    "\n",
    "print(ypred_xgb_val)\n",
    "\n",
    "#### Round off values i.e. 1 for values greater than 0.5 probability\n",
    "predictions_xgb_val = [round(value) for value in ypred_xgb_val]\n",
    "\n",
    "#### precison & Recall\n",
    "\n",
    "print(classification_report(Y_val, predictions_xgb_val))"
   ]
  },
  {
   "cell_type": "markdown",
   "metadata": {},
   "source": [
    "#### We are doing better than both Logistic and Random forest model, lets fine tune\n",
    "\n",
    "### 9. Parameter tuning\n",
    "\n"
   ]
  },
  {
   "cell_type": "code",
   "execution_count": 33,
   "metadata": {},
   "outputs": [],
   "source": [
    "params = {'n_estimators' : [100,150,200,250,300], # Number of trees in xg boost\n",
    "         'min_child_weight' : [1,3,5,7],\n",
    "         'reg_alpha' : [0,0.05,0.1,0.5,1],\n",
    "         'subsample' : [0.9,0.8,0.7],\n",
    "         'colsample_bytree' : [0.6,0.7,0.8],\n",
    "         'max_depth' : [3,4,5,6], # Maximum number of levels in tree\n",
    "         'learning_rate' : [0.05,0.1,0.5,1]} \n",
    "\n",
    "ind_params = {'base_score' : 0.5,'booster' : 'gbtree','colsample_bylevel': 1,'gamma' : 0,\n",
    "                     'max_delta_step' : 0 ,'n_jobs' : -1,'objective' : 'binary:logistic','eval_metric' : 'logloss',\n",
    "                      'random_state' : 40,'reg_lambda' : 1,'scale_pos_weight' : 1,'seed' : 9873}\n",
    "\n"
   ]
  },
  {
   "cell_type": "markdown",
   "metadata": {},
   "source": [
    "#### Params are the featured which are being tuned.\n",
    "#### ind_params are the features which aren't being tuned"
   ]
  },
  {
   "cell_type": "code",
   "execution_count": 34,
   "metadata": {
    "scrolled": true
   },
   "outputs": [
    {
     "name": "stdout",
     "output_type": "stream",
     "text": [
      "Fitting 2 folds for each of 150 candidates, totalling 300 fits\n",
      "[CV] subsample=0.8, reg_alpha=0.05, n_estimators=200, min_child_weight=5, max_depth=6, learning_rate=0.05, colsample_bytree=0.7 \n"
     ]
    },
    {
     "name": "stderr",
     "output_type": "stream",
     "text": [
      "[Parallel(n_jobs=1)]: Using backend SequentialBackend with 1 concurrent workers.\n",
      "C:\\Users\\hp\\anaconda3\\lib\\site-packages\\xgboost\\sklearn.py:888: UserWarning: The use of label encoder in XGBClassifier is deprecated and will be removed in a future release. To remove this warning, do the following: 1) Pass option use_label_encoder=False when constructing XGBClassifier object; and 2) Encode your labels (y) as integers starting with 0, i.e. 0, 1, 2, ..., [num_class - 1].\n",
      "  warnings.warn(label_encoder_deprecation_msg, UserWarning)\n"
     ]
    },
    {
     "name": "stdout",
     "output_type": "stream",
     "text": [
      "[CV]  subsample=0.8, reg_alpha=0.05, n_estimators=200, min_child_weight=5, max_depth=6, learning_rate=0.05, colsample_bytree=0.7, total=   0.4s\n",
      "[CV] subsample=0.8, reg_alpha=0.05, n_estimators=200, min_child_weight=5, max_depth=6, learning_rate=0.05, colsample_bytree=0.7 \n"
     ]
    },
    {
     "name": "stderr",
     "output_type": "stream",
     "text": [
      "[Parallel(n_jobs=1)]: Done   1 out of   1 | elapsed:    0.3s remaining:    0.0s\n"
     ]
    },
    {
     "name": "stdout",
     "output_type": "stream",
     "text": [
      "[CV]  subsample=0.8, reg_alpha=0.05, n_estimators=200, min_child_weight=5, max_depth=6, learning_rate=0.05, colsample_bytree=0.7, total=   0.4s\n",
      "[CV] subsample=0.7, reg_alpha=0.5, n_estimators=300, min_child_weight=3, max_depth=4, learning_rate=0.5, colsample_bytree=0.6 \n",
      "[CV]  subsample=0.7, reg_alpha=0.5, n_estimators=300, min_child_weight=3, max_depth=4, learning_rate=0.5, colsample_bytree=0.6, total=   0.5s\n",
      "[CV] subsample=0.7, reg_alpha=0.5, n_estimators=300, min_child_weight=3, max_depth=4, learning_rate=0.5, colsample_bytree=0.6 \n",
      "[CV]  subsample=0.7, reg_alpha=0.5, n_estimators=300, min_child_weight=3, max_depth=4, learning_rate=0.5, colsample_bytree=0.6, total=   0.5s\n",
      "[CV] subsample=0.7, reg_alpha=0.05, n_estimators=150, min_child_weight=1, max_depth=5, learning_rate=1, colsample_bytree=0.6 \n",
      "[CV]  subsample=0.7, reg_alpha=0.05, n_estimators=150, min_child_weight=1, max_depth=5, learning_rate=1, colsample_bytree=0.6, total=   0.3s\n",
      "[CV] subsample=0.7, reg_alpha=0.05, n_estimators=150, min_child_weight=1, max_depth=5, learning_rate=1, colsample_bytree=0.6 \n",
      "[CV]  subsample=0.7, reg_alpha=0.05, n_estimators=150, min_child_weight=1, max_depth=5, learning_rate=1, colsample_bytree=0.6, total=   0.3s\n",
      "[CV] subsample=0.9, reg_alpha=1, n_estimators=250, min_child_weight=5, max_depth=5, learning_rate=0.5, colsample_bytree=0.7 \n",
      "[CV]  subsample=0.9, reg_alpha=1, n_estimators=250, min_child_weight=5, max_depth=5, learning_rate=0.5, colsample_bytree=0.7, total=   0.4s\n",
      "[CV] subsample=0.9, reg_alpha=1, n_estimators=250, min_child_weight=5, max_depth=5, learning_rate=0.5, colsample_bytree=0.7 \n",
      "[CV]  subsample=0.9, reg_alpha=1, n_estimators=250, min_child_weight=5, max_depth=5, learning_rate=0.5, colsample_bytree=0.7, total=   0.4s\n",
      "[CV] subsample=0.7, reg_alpha=0.1, n_estimators=250, min_child_weight=3, max_depth=3, learning_rate=0.5, colsample_bytree=0.7 \n",
      "[CV]  subsample=0.7, reg_alpha=0.1, n_estimators=250, min_child_weight=3, max_depth=3, learning_rate=0.5, colsample_bytree=0.7, total=   0.4s\n",
      "[CV] subsample=0.7, reg_alpha=0.1, n_estimators=250, min_child_weight=3, max_depth=3, learning_rate=0.5, colsample_bytree=0.7 \n",
      "[CV]  subsample=0.7, reg_alpha=0.1, n_estimators=250, min_child_weight=3, max_depth=3, learning_rate=0.5, colsample_bytree=0.7, total=   0.4s\n",
      "[CV] subsample=0.8, reg_alpha=0.05, n_estimators=100, min_child_weight=7, max_depth=3, learning_rate=1, colsample_bytree=0.8 \n",
      "[CV]  subsample=0.8, reg_alpha=0.05, n_estimators=100, min_child_weight=7, max_depth=3, learning_rate=1, colsample_bytree=0.8, total=   0.1s\n",
      "[CV] subsample=0.8, reg_alpha=0.05, n_estimators=100, min_child_weight=7, max_depth=3, learning_rate=1, colsample_bytree=0.8 \n",
      "[CV]  subsample=0.8, reg_alpha=0.05, n_estimators=100, min_child_weight=7, max_depth=3, learning_rate=1, colsample_bytree=0.8, total=   0.2s\n",
      "[CV] subsample=0.8, reg_alpha=1, n_estimators=250, min_child_weight=5, max_depth=5, learning_rate=0.5, colsample_bytree=0.7 \n",
      "[CV]  subsample=0.8, reg_alpha=1, n_estimators=250, min_child_weight=5, max_depth=5, learning_rate=0.5, colsample_bytree=0.7, total=   0.4s\n",
      "[CV] subsample=0.8, reg_alpha=1, n_estimators=250, min_child_weight=5, max_depth=5, learning_rate=0.5, colsample_bytree=0.7 \n",
      "[CV]  subsample=0.8, reg_alpha=1, n_estimators=250, min_child_weight=5, max_depth=5, learning_rate=0.5, colsample_bytree=0.7, total=   0.4s\n",
      "[CV] subsample=0.9, reg_alpha=0, n_estimators=300, min_child_weight=7, max_depth=6, learning_rate=0.1, colsample_bytree=0.8 \n",
      "[CV]  subsample=0.9, reg_alpha=0, n_estimators=300, min_child_weight=7, max_depth=6, learning_rate=0.1, colsample_bytree=0.8, total=   0.5s\n",
      "[CV] subsample=0.9, reg_alpha=0, n_estimators=300, min_child_weight=7, max_depth=6, learning_rate=0.1, colsample_bytree=0.8 \n",
      "[CV]  subsample=0.9, reg_alpha=0, n_estimators=300, min_child_weight=7, max_depth=6, learning_rate=0.1, colsample_bytree=0.8, total=   0.6s\n",
      "[CV] subsample=0.8, reg_alpha=0, n_estimators=100, min_child_weight=7, max_depth=5, learning_rate=1, colsample_bytree=0.6 \n",
      "[CV]  subsample=0.8, reg_alpha=0, n_estimators=100, min_child_weight=7, max_depth=5, learning_rate=1, colsample_bytree=0.6, total=   0.2s\n",
      "[CV] subsample=0.8, reg_alpha=0, n_estimators=100, min_child_weight=7, max_depth=5, learning_rate=1, colsample_bytree=0.6 \n",
      "[CV]  subsample=0.8, reg_alpha=0, n_estimators=100, min_child_weight=7, max_depth=5, learning_rate=1, colsample_bytree=0.6, total=   0.2s\n",
      "[CV] subsample=0.9, reg_alpha=0.05, n_estimators=150, min_child_weight=3, max_depth=4, learning_rate=0.5, colsample_bytree=0.8 \n",
      "[CV]  subsample=0.9, reg_alpha=0.05, n_estimators=150, min_child_weight=3, max_depth=4, learning_rate=0.5, colsample_bytree=0.8, total=   0.3s\n",
      "[CV] subsample=0.9, reg_alpha=0.05, n_estimators=150, min_child_weight=3, max_depth=4, learning_rate=0.5, colsample_bytree=0.8 \n",
      "[CV]  subsample=0.9, reg_alpha=0.05, n_estimators=150, min_child_weight=3, max_depth=4, learning_rate=0.5, colsample_bytree=0.8, total=   0.2s\n",
      "[CV] subsample=0.7, reg_alpha=0.1, n_estimators=200, min_child_weight=7, max_depth=4, learning_rate=0.5, colsample_bytree=0.7 \n",
      "[CV]  subsample=0.7, reg_alpha=0.1, n_estimators=200, min_child_weight=7, max_depth=4, learning_rate=0.5, colsample_bytree=0.7, total=   0.3s\n",
      "[CV] subsample=0.7, reg_alpha=0.1, n_estimators=200, min_child_weight=7, max_depth=4, learning_rate=0.5, colsample_bytree=0.7 \n",
      "[CV]  subsample=0.7, reg_alpha=0.1, n_estimators=200, min_child_weight=7, max_depth=4, learning_rate=0.5, colsample_bytree=0.7, total=   0.3s\n",
      "[CV] subsample=0.7, reg_alpha=0.1, n_estimators=300, min_child_weight=7, max_depth=5, learning_rate=0.05, colsample_bytree=0.7 \n",
      "[CV]  subsample=0.7, reg_alpha=0.1, n_estimators=300, min_child_weight=7, max_depth=5, learning_rate=0.05, colsample_bytree=0.7, total=   0.5s\n",
      "[CV] subsample=0.7, reg_alpha=0.1, n_estimators=300, min_child_weight=7, max_depth=5, learning_rate=0.05, colsample_bytree=0.7 \n",
      "[CV]  subsample=0.7, reg_alpha=0.1, n_estimators=300, min_child_weight=7, max_depth=5, learning_rate=0.05, colsample_bytree=0.7, total=   0.5s\n",
      "[CV] subsample=0.7, reg_alpha=1, n_estimators=150, min_child_weight=5, max_depth=5, learning_rate=1, colsample_bytree=0.8 \n",
      "[CV]  subsample=0.7, reg_alpha=1, n_estimators=150, min_child_weight=5, max_depth=5, learning_rate=1, colsample_bytree=0.8, total=   0.3s\n",
      "[CV] subsample=0.7, reg_alpha=1, n_estimators=150, min_child_weight=5, max_depth=5, learning_rate=1, colsample_bytree=0.8 \n",
      "[CV]  subsample=0.7, reg_alpha=1, n_estimators=150, min_child_weight=5, max_depth=5, learning_rate=1, colsample_bytree=0.8, total=   0.2s\n",
      "[CV] subsample=0.9, reg_alpha=1, n_estimators=100, min_child_weight=3, max_depth=3, learning_rate=0.05, colsample_bytree=0.7 \n",
      "[CV]  subsample=0.9, reg_alpha=1, n_estimators=100, min_child_weight=3, max_depth=3, learning_rate=0.05, colsample_bytree=0.7, total=   0.2s\n",
      "[CV] subsample=0.9, reg_alpha=1, n_estimators=100, min_child_weight=3, max_depth=3, learning_rate=0.05, colsample_bytree=0.7 \n",
      "[CV]  subsample=0.9, reg_alpha=1, n_estimators=100, min_child_weight=3, max_depth=3, learning_rate=0.05, colsample_bytree=0.7, total=   0.2s\n",
      "[CV] subsample=0.8, reg_alpha=0, n_estimators=250, min_child_weight=1, max_depth=3, learning_rate=0.1, colsample_bytree=0.8 \n",
      "[CV]  subsample=0.8, reg_alpha=0, n_estimators=250, min_child_weight=1, max_depth=3, learning_rate=0.1, colsample_bytree=0.8, total=   0.4s\n",
      "[CV] subsample=0.8, reg_alpha=0, n_estimators=250, min_child_weight=1, max_depth=3, learning_rate=0.1, colsample_bytree=0.8 \n",
      "[CV]  subsample=0.8, reg_alpha=0, n_estimators=250, min_child_weight=1, max_depth=3, learning_rate=0.1, colsample_bytree=0.8, total=   0.3s\n",
      "[CV] subsample=0.9, reg_alpha=0.1, n_estimators=300, min_child_weight=7, max_depth=3, learning_rate=0.5, colsample_bytree=0.8 \n",
      "[CV]  subsample=0.9, reg_alpha=0.1, n_estimators=300, min_child_weight=7, max_depth=3, learning_rate=0.5, colsample_bytree=0.8, total=   0.4s\n",
      "[CV] subsample=0.9, reg_alpha=0.1, n_estimators=300, min_child_weight=7, max_depth=3, learning_rate=0.5, colsample_bytree=0.8 \n",
      "[CV]  subsample=0.9, reg_alpha=0.1, n_estimators=300, min_child_weight=7, max_depth=3, learning_rate=0.5, colsample_bytree=0.8, total=   0.4s\n",
      "[CV] subsample=0.7, reg_alpha=1, n_estimators=200, min_child_weight=3, max_depth=3, learning_rate=0.1, colsample_bytree=0.8 \n",
      "[CV]  subsample=0.7, reg_alpha=1, n_estimators=200, min_child_weight=3, max_depth=3, learning_rate=0.1, colsample_bytree=0.8, total=   0.3s\n",
      "[CV] subsample=0.7, reg_alpha=1, n_estimators=200, min_child_weight=3, max_depth=3, learning_rate=0.1, colsample_bytree=0.8 \n",
      "[CV]  subsample=0.7, reg_alpha=1, n_estimators=200, min_child_weight=3, max_depth=3, learning_rate=0.1, colsample_bytree=0.8, total=   0.3s\n",
      "[CV] subsample=0.8, reg_alpha=1, n_estimators=300, min_child_weight=3, max_depth=5, learning_rate=0.05, colsample_bytree=0.6 \n",
      "[CV]  subsample=0.8, reg_alpha=1, n_estimators=300, min_child_weight=3, max_depth=5, learning_rate=0.05, colsample_bytree=0.6, total=   1.0s\n",
      "[CV] subsample=0.8, reg_alpha=1, n_estimators=300, min_child_weight=3, max_depth=5, learning_rate=0.05, colsample_bytree=0.6 \n",
      "[CV]  subsample=0.8, reg_alpha=1, n_estimators=300, min_child_weight=3, max_depth=5, learning_rate=0.05, colsample_bytree=0.6, total=   1.0s\n",
      "[CV] subsample=0.8, reg_alpha=0, n_estimators=150, min_child_weight=3, max_depth=5, learning_rate=0.5, colsample_bytree=0.7 \n",
      "[CV]  subsample=0.8, reg_alpha=0, n_estimators=150, min_child_weight=3, max_depth=5, learning_rate=0.5, colsample_bytree=0.7, total=   0.6s\n",
      "[CV] subsample=0.8, reg_alpha=0, n_estimators=150, min_child_weight=3, max_depth=5, learning_rate=0.5, colsample_bytree=0.7 \n",
      "[CV]  subsample=0.8, reg_alpha=0, n_estimators=150, min_child_weight=3, max_depth=5, learning_rate=0.5, colsample_bytree=0.7, total=   0.5s\n",
      "[CV] subsample=0.8, reg_alpha=0.5, n_estimators=100, min_child_weight=3, max_depth=3, learning_rate=0.5, colsample_bytree=0.8 \n",
      "[CV]  subsample=0.8, reg_alpha=0.5, n_estimators=100, min_child_weight=3, max_depth=3, learning_rate=0.5, colsample_bytree=0.8, total=   0.3s\n",
      "[CV] subsample=0.8, reg_alpha=0.5, n_estimators=100, min_child_weight=3, max_depth=3, learning_rate=0.5, colsample_bytree=0.8 \n",
      "[CV]  subsample=0.8, reg_alpha=0.5, n_estimators=100, min_child_weight=3, max_depth=3, learning_rate=0.5, colsample_bytree=0.8, total=   0.3s\n",
      "[CV] subsample=0.8, reg_alpha=0.05, n_estimators=150, min_child_weight=5, max_depth=3, learning_rate=0.5, colsample_bytree=0.7 \n",
      "[CV]  subsample=0.8, reg_alpha=0.05, n_estimators=150, min_child_weight=5, max_depth=3, learning_rate=0.5, colsample_bytree=0.7, total=   0.5s\n",
      "[CV] subsample=0.8, reg_alpha=0.05, n_estimators=150, min_child_weight=5, max_depth=3, learning_rate=0.5, colsample_bytree=0.7 \n",
      "[CV]  subsample=0.8, reg_alpha=0.05, n_estimators=150, min_child_weight=5, max_depth=3, learning_rate=0.5, colsample_bytree=0.7, total=   0.5s\n",
      "[CV] subsample=0.8, reg_alpha=0.5, n_estimators=100, min_child_weight=7, max_depth=4, learning_rate=0.05, colsample_bytree=0.7 \n",
      "[CV]  subsample=0.8, reg_alpha=0.5, n_estimators=100, min_child_weight=7, max_depth=4, learning_rate=0.05, colsample_bytree=0.7, total=   0.4s\n",
      "[CV] subsample=0.8, reg_alpha=0.5, n_estimators=100, min_child_weight=7, max_depth=4, learning_rate=0.05, colsample_bytree=0.7 \n",
      "[CV]  subsample=0.8, reg_alpha=0.5, n_estimators=100, min_child_weight=7, max_depth=4, learning_rate=0.05, colsample_bytree=0.7, total=   0.4s\n",
      "[CV] subsample=0.7, reg_alpha=0.1, n_estimators=300, min_child_weight=3, max_depth=3, learning_rate=0.05, colsample_bytree=0.7 \n",
      "[CV]  subsample=0.7, reg_alpha=0.1, n_estimators=300, min_child_weight=3, max_depth=3, learning_rate=0.05, colsample_bytree=0.7, total=   0.9s\n",
      "[CV] subsample=0.7, reg_alpha=0.1, n_estimators=300, min_child_weight=3, max_depth=3, learning_rate=0.05, colsample_bytree=0.7 \n",
      "[CV]  subsample=0.7, reg_alpha=0.1, n_estimators=300, min_child_weight=3, max_depth=3, learning_rate=0.05, colsample_bytree=0.7, total=   0.9s\n",
      "[CV] subsample=0.7, reg_alpha=0.5, n_estimators=250, min_child_weight=1, max_depth=5, learning_rate=1, colsample_bytree=0.7 \n",
      "[CV]  subsample=0.7, reg_alpha=0.5, n_estimators=250, min_child_weight=1, max_depth=5, learning_rate=1, colsample_bytree=0.7, total=   0.9s\n",
      "[CV] subsample=0.7, reg_alpha=0.5, n_estimators=250, min_child_weight=1, max_depth=5, learning_rate=1, colsample_bytree=0.7 \n",
      "[CV]  subsample=0.7, reg_alpha=0.5, n_estimators=250, min_child_weight=1, max_depth=5, learning_rate=1, colsample_bytree=0.7, total=   0.9s\n",
      "[CV] subsample=0.9, reg_alpha=0.1, n_estimators=100, min_child_weight=5, max_depth=6, learning_rate=0.05, colsample_bytree=0.8 \n",
      "[CV]  subsample=0.9, reg_alpha=0.1, n_estimators=100, min_child_weight=5, max_depth=6, learning_rate=0.05, colsample_bytree=0.8, total=   0.4s\n",
      "[CV] subsample=0.9, reg_alpha=0.1, n_estimators=100, min_child_weight=5, max_depth=6, learning_rate=0.05, colsample_bytree=0.8 \n",
      "[CV]  subsample=0.9, reg_alpha=0.1, n_estimators=100, min_child_weight=5, max_depth=6, learning_rate=0.05, colsample_bytree=0.8, total=   0.4s\n",
      "[CV] subsample=0.9, reg_alpha=1, n_estimators=200, min_child_weight=7, max_depth=3, learning_rate=0.5, colsample_bytree=0.8 \n",
      "[CV]  subsample=0.9, reg_alpha=1, n_estimators=200, min_child_weight=7, max_depth=3, learning_rate=0.5, colsample_bytree=0.8, total=   0.6s\n",
      "[CV] subsample=0.9, reg_alpha=1, n_estimators=200, min_child_weight=7, max_depth=3, learning_rate=0.5, colsample_bytree=0.8 \n",
      "[CV]  subsample=0.9, reg_alpha=1, n_estimators=200, min_child_weight=7, max_depth=3, learning_rate=0.5, colsample_bytree=0.8, total=   0.6s\n",
      "[CV] subsample=0.7, reg_alpha=0.5, n_estimators=200, min_child_weight=7, max_depth=4, learning_rate=0.1, colsample_bytree=0.8 \n",
      "[CV]  subsample=0.7, reg_alpha=0.5, n_estimators=200, min_child_weight=7, max_depth=4, learning_rate=0.1, colsample_bytree=0.8, total=   0.6s\n",
      "[CV] subsample=0.7, reg_alpha=0.5, n_estimators=200, min_child_weight=7, max_depth=4, learning_rate=0.1, colsample_bytree=0.8 \n",
      "[CV]  subsample=0.7, reg_alpha=0.5, n_estimators=200, min_child_weight=7, max_depth=4, learning_rate=0.1, colsample_bytree=0.8, total=   0.3s\n",
      "[CV] subsample=0.9, reg_alpha=1, n_estimators=300, min_child_weight=7, max_depth=5, learning_rate=1, colsample_bytree=0.8 \n",
      "[CV]  subsample=0.9, reg_alpha=1, n_estimators=300, min_child_weight=7, max_depth=5, learning_rate=1, colsample_bytree=0.8, total=   0.5s\n",
      "[CV] subsample=0.9, reg_alpha=1, n_estimators=300, min_child_weight=7, max_depth=5, learning_rate=1, colsample_bytree=0.8 \n",
      "[CV]  subsample=0.9, reg_alpha=1, n_estimators=300, min_child_weight=7, max_depth=5, learning_rate=1, colsample_bytree=0.8, total=   0.4s\n",
      "[CV] subsample=0.8, reg_alpha=0, n_estimators=300, min_child_weight=1, max_depth=6, learning_rate=0.5, colsample_bytree=0.8 \n",
      "[CV]  subsample=0.8, reg_alpha=0, n_estimators=300, min_child_weight=1, max_depth=6, learning_rate=0.5, colsample_bytree=0.8, total=   0.6s\n",
      "[CV] subsample=0.8, reg_alpha=0, n_estimators=300, min_child_weight=1, max_depth=6, learning_rate=0.5, colsample_bytree=0.8 \n",
      "[CV]  subsample=0.8, reg_alpha=0, n_estimators=300, min_child_weight=1, max_depth=6, learning_rate=0.5, colsample_bytree=0.8, total=   0.6s\n",
      "[CV] subsample=0.7, reg_alpha=0.05, n_estimators=200, min_child_weight=3, max_depth=6, learning_rate=0.5, colsample_bytree=0.7 \n",
      "[CV]  subsample=0.7, reg_alpha=0.05, n_estimators=200, min_child_weight=3, max_depth=6, learning_rate=0.5, colsample_bytree=0.7, total=   0.4s\n",
      "[CV] subsample=0.7, reg_alpha=0.05, n_estimators=200, min_child_weight=3, max_depth=6, learning_rate=0.5, colsample_bytree=0.7 \n",
      "[CV]  subsample=0.7, reg_alpha=0.05, n_estimators=200, min_child_weight=3, max_depth=6, learning_rate=0.5, colsample_bytree=0.7, total=   0.4s\n",
      "[CV] subsample=0.9, reg_alpha=0, n_estimators=150, min_child_weight=5, max_depth=6, learning_rate=0.1, colsample_bytree=0.6 \n",
      "[CV]  subsample=0.9, reg_alpha=0, n_estimators=150, min_child_weight=5, max_depth=6, learning_rate=0.1, colsample_bytree=0.6, total=   0.3s\n",
      "[CV] subsample=0.9, reg_alpha=0, n_estimators=150, min_child_weight=5, max_depth=6, learning_rate=0.1, colsample_bytree=0.6 \n",
      "[CV]  subsample=0.9, reg_alpha=0, n_estimators=150, min_child_weight=5, max_depth=6, learning_rate=0.1, colsample_bytree=0.6, total=   0.4s\n",
      "[CV] subsample=0.8, reg_alpha=0.1, n_estimators=150, min_child_weight=1, max_depth=6, learning_rate=0.5, colsample_bytree=0.8 \n",
      "[CV]  subsample=0.8, reg_alpha=0.1, n_estimators=150, min_child_weight=1, max_depth=6, learning_rate=0.5, colsample_bytree=0.8, total=   0.6s\n",
      "[CV] subsample=0.8, reg_alpha=0.1, n_estimators=150, min_child_weight=1, max_depth=6, learning_rate=0.5, colsample_bytree=0.8 \n",
      "[CV]  subsample=0.8, reg_alpha=0.1, n_estimators=150, min_child_weight=1, max_depth=6, learning_rate=0.5, colsample_bytree=0.8, total=   0.6s\n",
      "[CV] subsample=0.9, reg_alpha=0.05, n_estimators=100, min_child_weight=3, max_depth=4, learning_rate=0.5, colsample_bytree=0.6 \n",
      "[CV]  subsample=0.9, reg_alpha=0.05, n_estimators=100, min_child_weight=3, max_depth=4, learning_rate=0.5, colsample_bytree=0.6, total=   0.3s\n",
      "[CV] subsample=0.9, reg_alpha=0.05, n_estimators=100, min_child_weight=3, max_depth=4, learning_rate=0.5, colsample_bytree=0.6 \n",
      "[CV]  subsample=0.9, reg_alpha=0.05, n_estimators=100, min_child_weight=3, max_depth=4, learning_rate=0.5, colsample_bytree=0.6, total=   0.4s\n",
      "[CV] subsample=0.9, reg_alpha=0.1, n_estimators=200, min_child_weight=7, max_depth=6, learning_rate=0.5, colsample_bytree=0.6 \n",
      "[CV]  subsample=0.9, reg_alpha=0.1, n_estimators=200, min_child_weight=7, max_depth=6, learning_rate=0.5, colsample_bytree=0.6, total=   0.7s\n",
      "[CV] subsample=0.9, reg_alpha=0.1, n_estimators=200, min_child_weight=7, max_depth=6, learning_rate=0.5, colsample_bytree=0.6 \n",
      "[CV]  subsample=0.9, reg_alpha=0.1, n_estimators=200, min_child_weight=7, max_depth=6, learning_rate=0.5, colsample_bytree=0.6, total=   0.7s\n",
      "[CV] subsample=0.8, reg_alpha=0.1, n_estimators=100, min_child_weight=7, max_depth=4, learning_rate=0.5, colsample_bytree=0.7 \n",
      "[CV]  subsample=0.8, reg_alpha=0.1, n_estimators=100, min_child_weight=7, max_depth=4, learning_rate=0.5, colsample_bytree=0.7, total=   0.3s\n",
      "[CV] subsample=0.8, reg_alpha=0.1, n_estimators=100, min_child_weight=7, max_depth=4, learning_rate=0.5, colsample_bytree=0.7 \n",
      "[CV]  subsample=0.8, reg_alpha=0.1, n_estimators=100, min_child_weight=7, max_depth=4, learning_rate=0.5, colsample_bytree=0.7, total=   0.4s\n",
      "[CV] subsample=0.8, reg_alpha=0, n_estimators=150, min_child_weight=5, max_depth=5, learning_rate=1, colsample_bytree=0.6 \n",
      "[CV]  subsample=0.8, reg_alpha=0, n_estimators=150, min_child_weight=5, max_depth=5, learning_rate=1, colsample_bytree=0.6, total=   0.5s\n",
      "[CV] subsample=0.8, reg_alpha=0, n_estimators=150, min_child_weight=5, max_depth=5, learning_rate=1, colsample_bytree=0.6 \n",
      "[CV]  subsample=0.8, reg_alpha=0, n_estimators=150, min_child_weight=5, max_depth=5, learning_rate=1, colsample_bytree=0.6, total=   0.5s\n",
      "[CV] subsample=0.7, reg_alpha=0, n_estimators=300, min_child_weight=1, max_depth=3, learning_rate=0.1, colsample_bytree=0.6 \n",
      "[CV]  subsample=0.7, reg_alpha=0, n_estimators=300, min_child_weight=1, max_depth=3, learning_rate=0.1, colsample_bytree=0.6, total=   0.9s\n",
      "[CV] subsample=0.7, reg_alpha=0, n_estimators=300, min_child_weight=1, max_depth=3, learning_rate=0.1, colsample_bytree=0.6 \n",
      "[CV]  subsample=0.7, reg_alpha=0, n_estimators=300, min_child_weight=1, max_depth=3, learning_rate=0.1, colsample_bytree=0.6, total=   0.9s\n",
      "[CV] subsample=0.9, reg_alpha=0.05, n_estimators=250, min_child_weight=5, max_depth=5, learning_rate=1, colsample_bytree=0.6 \n",
      "[CV]  subsample=0.9, reg_alpha=0.05, n_estimators=250, min_child_weight=5, max_depth=5, learning_rate=1, colsample_bytree=0.6, total=   0.8s\n",
      "[CV] subsample=0.9, reg_alpha=0.05, n_estimators=250, min_child_weight=5, max_depth=5, learning_rate=1, colsample_bytree=0.6 \n",
      "[CV]  subsample=0.9, reg_alpha=0.05, n_estimators=250, min_child_weight=5, max_depth=5, learning_rate=1, colsample_bytree=0.6, total=   0.8s\n",
      "[CV] subsample=0.7, reg_alpha=0, n_estimators=200, min_child_weight=1, max_depth=4, learning_rate=0.05, colsample_bytree=0.7 \n",
      "[CV]  subsample=0.7, reg_alpha=0, n_estimators=200, min_child_weight=1, max_depth=4, learning_rate=0.05, colsample_bytree=0.7, total=   0.7s\n",
      "[CV] subsample=0.7, reg_alpha=0, n_estimators=200, min_child_weight=1, max_depth=4, learning_rate=0.05, colsample_bytree=0.7 \n",
      "[CV]  subsample=0.7, reg_alpha=0, n_estimators=200, min_child_weight=1, max_depth=4, learning_rate=0.05, colsample_bytree=0.7, total=   0.7s\n",
      "[CV] subsample=0.9, reg_alpha=0.5, n_estimators=250, min_child_weight=5, max_depth=3, learning_rate=0.1, colsample_bytree=0.8 \n",
      "[CV]  subsample=0.9, reg_alpha=0.5, n_estimators=250, min_child_weight=5, max_depth=3, learning_rate=0.1, colsample_bytree=0.8, total=   0.7s\n",
      "[CV] subsample=0.9, reg_alpha=0.5, n_estimators=250, min_child_weight=5, max_depth=3, learning_rate=0.1, colsample_bytree=0.8 \n",
      "[CV]  subsample=0.9, reg_alpha=0.5, n_estimators=250, min_child_weight=5, max_depth=3, learning_rate=0.1, colsample_bytree=0.8, total=   0.8s\n",
      "[CV] subsample=0.9, reg_alpha=0.05, n_estimators=150, min_child_weight=5, max_depth=5, learning_rate=0.05, colsample_bytree=0.6 \n",
      "[CV]  subsample=0.9, reg_alpha=0.05, n_estimators=150, min_child_weight=5, max_depth=5, learning_rate=0.05, colsample_bytree=0.6, total=   0.3s\n",
      "[CV] subsample=0.9, reg_alpha=0.05, n_estimators=150, min_child_weight=5, max_depth=5, learning_rate=0.05, colsample_bytree=0.6 \n",
      "[CV]  subsample=0.9, reg_alpha=0.05, n_estimators=150, min_child_weight=5, max_depth=5, learning_rate=0.05, colsample_bytree=0.6, total=   0.3s\n",
      "[CV] subsample=0.8, reg_alpha=1, n_estimators=100, min_child_weight=1, max_depth=5, learning_rate=0.05, colsample_bytree=0.7 \n",
      "[CV]  subsample=0.8, reg_alpha=1, n_estimators=100, min_child_weight=1, max_depth=5, learning_rate=0.05, colsample_bytree=0.7, total=   0.2s\n",
      "[CV] subsample=0.8, reg_alpha=1, n_estimators=100, min_child_weight=1, max_depth=5, learning_rate=0.05, colsample_bytree=0.7 \n",
      "[CV]  subsample=0.8, reg_alpha=1, n_estimators=100, min_child_weight=1, max_depth=5, learning_rate=0.05, colsample_bytree=0.7, total=   0.2s\n",
      "[CV] subsample=0.9, reg_alpha=1, n_estimators=250, min_child_weight=1, max_depth=5, learning_rate=1, colsample_bytree=0.6 \n",
      "[CV]  subsample=0.9, reg_alpha=1, n_estimators=250, min_child_weight=1, max_depth=5, learning_rate=1, colsample_bytree=0.6, total=   0.4s\n",
      "[CV] subsample=0.9, reg_alpha=1, n_estimators=250, min_child_weight=1, max_depth=5, learning_rate=1, colsample_bytree=0.6 \n",
      "[CV]  subsample=0.9, reg_alpha=1, n_estimators=250, min_child_weight=1, max_depth=5, learning_rate=1, colsample_bytree=0.6, total=   0.4s\n",
      "[CV] subsample=0.8, reg_alpha=0.05, n_estimators=250, min_child_weight=5, max_depth=5, learning_rate=1, colsample_bytree=0.6 \n",
      "[CV]  subsample=0.8, reg_alpha=0.05, n_estimators=250, min_child_weight=5, max_depth=5, learning_rate=1, colsample_bytree=0.6, total=   0.4s\n",
      "[CV] subsample=0.8, reg_alpha=0.05, n_estimators=250, min_child_weight=5, max_depth=5, learning_rate=1, colsample_bytree=0.6 \n",
      "[CV]  subsample=0.8, reg_alpha=0.05, n_estimators=250, min_child_weight=5, max_depth=5, learning_rate=1, colsample_bytree=0.6, total=   0.4s\n",
      "[CV] subsample=0.7, reg_alpha=0, n_estimators=200, min_child_weight=7, max_depth=5, learning_rate=0.1, colsample_bytree=0.6 \n",
      "[CV]  subsample=0.7, reg_alpha=0, n_estimators=200, min_child_weight=7, max_depth=5, learning_rate=0.1, colsample_bytree=0.6, total=   0.3s\n",
      "[CV] subsample=0.7, reg_alpha=0, n_estimators=200, min_child_weight=7, max_depth=5, learning_rate=0.1, colsample_bytree=0.6 \n",
      "[CV]  subsample=0.7, reg_alpha=0, n_estimators=200, min_child_weight=7, max_depth=5, learning_rate=0.1, colsample_bytree=0.6, total=   0.3s\n",
      "[CV] subsample=0.9, reg_alpha=0, n_estimators=200, min_child_weight=3, max_depth=3, learning_rate=1, colsample_bytree=0.6 \n",
      "[CV]  subsample=0.9, reg_alpha=0, n_estimators=200, min_child_weight=3, max_depth=3, learning_rate=1, colsample_bytree=0.6, total=   0.3s\n",
      "[CV] subsample=0.9, reg_alpha=0, n_estimators=200, min_child_weight=3, max_depth=3, learning_rate=1, colsample_bytree=0.6 \n",
      "[CV]  subsample=0.9, reg_alpha=0, n_estimators=200, min_child_weight=3, max_depth=3, learning_rate=1, colsample_bytree=0.6, total=   0.4s\n",
      "[CV] subsample=0.7, reg_alpha=0.1, n_estimators=150, min_child_weight=1, max_depth=4, learning_rate=0.1, colsample_bytree=0.6 \n",
      "[CV]  subsample=0.7, reg_alpha=0.1, n_estimators=150, min_child_weight=1, max_depth=4, learning_rate=0.1, colsample_bytree=0.6, total=   0.5s\n",
      "[CV] subsample=0.7, reg_alpha=0.1, n_estimators=150, min_child_weight=1, max_depth=4, learning_rate=0.1, colsample_bytree=0.6 \n",
      "[CV]  subsample=0.7, reg_alpha=0.1, n_estimators=150, min_child_weight=1, max_depth=4, learning_rate=0.1, colsample_bytree=0.6, total=   0.5s\n",
      "[CV] subsample=0.7, reg_alpha=1, n_estimators=300, min_child_weight=5, max_depth=4, learning_rate=1, colsample_bytree=0.7 \n",
      "[CV]  subsample=0.7, reg_alpha=1, n_estimators=300, min_child_weight=5, max_depth=4, learning_rate=1, colsample_bytree=0.7, total=   0.9s\n",
      "[CV] subsample=0.7, reg_alpha=1, n_estimators=300, min_child_weight=5, max_depth=4, learning_rate=1, colsample_bytree=0.7 \n",
      "[CV]  subsample=0.7, reg_alpha=1, n_estimators=300, min_child_weight=5, max_depth=4, learning_rate=1, colsample_bytree=0.7, total=   0.9s\n",
      "[CV] subsample=0.9, reg_alpha=0.1, n_estimators=300, min_child_weight=5, max_depth=5, learning_rate=0.05, colsample_bytree=0.7 \n",
      "[CV]  subsample=0.9, reg_alpha=0.1, n_estimators=300, min_child_weight=5, max_depth=5, learning_rate=0.05, colsample_bytree=0.7, total=   1.0s\n",
      "[CV] subsample=0.9, reg_alpha=0.1, n_estimators=300, min_child_weight=5, max_depth=5, learning_rate=0.05, colsample_bytree=0.7 \n",
      "[CV]  subsample=0.9, reg_alpha=0.1, n_estimators=300, min_child_weight=5, max_depth=5, learning_rate=0.05, colsample_bytree=0.7, total=   1.0s\n",
      "[CV] subsample=0.7, reg_alpha=1, n_estimators=100, min_child_weight=3, max_depth=5, learning_rate=0.1, colsample_bytree=0.7 \n",
      "[CV]  subsample=0.7, reg_alpha=1, n_estimators=100, min_child_weight=3, max_depth=5, learning_rate=0.1, colsample_bytree=0.7, total=   0.4s\n",
      "[CV] subsample=0.7, reg_alpha=1, n_estimators=100, min_child_weight=3, max_depth=5, learning_rate=0.1, colsample_bytree=0.7 \n",
      "[CV]  subsample=0.7, reg_alpha=1, n_estimators=100, min_child_weight=3, max_depth=5, learning_rate=0.1, colsample_bytree=0.7, total=   0.4s\n",
      "[CV] subsample=0.9, reg_alpha=1, n_estimators=150, min_child_weight=5, max_depth=5, learning_rate=0.5, colsample_bytree=0.6 \n",
      "[CV]  subsample=0.9, reg_alpha=1, n_estimators=150, min_child_weight=5, max_depth=5, learning_rate=0.5, colsample_bytree=0.6, total=   0.5s\n",
      "[CV] subsample=0.9, reg_alpha=1, n_estimators=150, min_child_weight=5, max_depth=5, learning_rate=0.5, colsample_bytree=0.6 \n",
      "[CV]  subsample=0.9, reg_alpha=1, n_estimators=150, min_child_weight=5, max_depth=5, learning_rate=0.5, colsample_bytree=0.6, total=   0.5s\n",
      "[CV] subsample=0.9, reg_alpha=0, n_estimators=100, min_child_weight=5, max_depth=4, learning_rate=0.05, colsample_bytree=0.8 \n",
      "[CV]  subsample=0.9, reg_alpha=0, n_estimators=100, min_child_weight=5, max_depth=4, learning_rate=0.05, colsample_bytree=0.8, total=   0.4s\n",
      "[CV] subsample=0.9, reg_alpha=0, n_estimators=100, min_child_weight=5, max_depth=4, learning_rate=0.05, colsample_bytree=0.8 \n",
      "[CV]  subsample=0.9, reg_alpha=0, n_estimators=100, min_child_weight=5, max_depth=4, learning_rate=0.05, colsample_bytree=0.8, total=   0.4s\n",
      "[CV] subsample=0.7, reg_alpha=0.1, n_estimators=150, min_child_weight=5, max_depth=3, learning_rate=0.5, colsample_bytree=0.6 \n",
      "[CV]  subsample=0.7, reg_alpha=0.1, n_estimators=150, min_child_weight=5, max_depth=3, learning_rate=0.5, colsample_bytree=0.6, total=   0.5s\n",
      "[CV] subsample=0.7, reg_alpha=0.1, n_estimators=150, min_child_weight=5, max_depth=3, learning_rate=0.5, colsample_bytree=0.6 \n",
      "[CV]  subsample=0.7, reg_alpha=0.1, n_estimators=150, min_child_weight=5, max_depth=3, learning_rate=0.5, colsample_bytree=0.6, total=   0.5s\n",
      "[CV] subsample=0.7, reg_alpha=1, n_estimators=200, min_child_weight=5, max_depth=5, learning_rate=0.1, colsample_bytree=0.6 \n",
      "[CV]  subsample=0.7, reg_alpha=1, n_estimators=200, min_child_weight=5, max_depth=5, learning_rate=0.1, colsample_bytree=0.6, total=   0.7s\n",
      "[CV] subsample=0.7, reg_alpha=1, n_estimators=200, min_child_weight=5, max_depth=5, learning_rate=0.1, colsample_bytree=0.6 \n",
      "[CV]  subsample=0.7, reg_alpha=1, n_estimators=200, min_child_weight=5, max_depth=5, learning_rate=0.1, colsample_bytree=0.6, total=   0.7s\n",
      "[CV] subsample=0.8, reg_alpha=0.1, n_estimators=250, min_child_weight=7, max_depth=6, learning_rate=1, colsample_bytree=0.8 \n",
      "[CV]  subsample=0.8, reg_alpha=0.1, n_estimators=250, min_child_weight=7, max_depth=6, learning_rate=1, colsample_bytree=0.8, total=   0.9s\n",
      "[CV] subsample=0.8, reg_alpha=0.1, n_estimators=250, min_child_weight=7, max_depth=6, learning_rate=1, colsample_bytree=0.8 \n",
      "[CV]  subsample=0.8, reg_alpha=0.1, n_estimators=250, min_child_weight=7, max_depth=6, learning_rate=1, colsample_bytree=0.8, total=   0.9s\n",
      "[CV] subsample=0.8, reg_alpha=0.1, n_estimators=200, min_child_weight=1, max_depth=3, learning_rate=0.5, colsample_bytree=0.6 \n",
      "[CV]  subsample=0.8, reg_alpha=0.1, n_estimators=200, min_child_weight=1, max_depth=3, learning_rate=0.5, colsample_bytree=0.6, total=   0.3s\n",
      "[CV] subsample=0.8, reg_alpha=0.1, n_estimators=200, min_child_weight=1, max_depth=3, learning_rate=0.5, colsample_bytree=0.6 \n",
      "[CV]  subsample=0.8, reg_alpha=0.1, n_estimators=200, min_child_weight=1, max_depth=3, learning_rate=0.5, colsample_bytree=0.6, total=   0.3s\n",
      "[CV] subsample=0.8, reg_alpha=0, n_estimators=100, min_child_weight=3, max_depth=6, learning_rate=0.5, colsample_bytree=0.6 \n",
      "[CV]  subsample=0.8, reg_alpha=0, n_estimators=100, min_child_weight=3, max_depth=6, learning_rate=0.5, colsample_bytree=0.6, total=   0.2s\n",
      "[CV] subsample=0.8, reg_alpha=0, n_estimators=100, min_child_weight=3, max_depth=6, learning_rate=0.5, colsample_bytree=0.6 \n",
      "[CV]  subsample=0.8, reg_alpha=0, n_estimators=100, min_child_weight=3, max_depth=6, learning_rate=0.5, colsample_bytree=0.6, total=   0.2s\n",
      "[CV] subsample=0.9, reg_alpha=0.5, n_estimators=100, min_child_weight=3, max_depth=3, learning_rate=0.5, colsample_bytree=0.8 \n",
      "[CV]  subsample=0.9, reg_alpha=0.5, n_estimators=100, min_child_weight=3, max_depth=3, learning_rate=0.5, colsample_bytree=0.8, total=   0.2s\n",
      "[CV] subsample=0.9, reg_alpha=0.5, n_estimators=100, min_child_weight=3, max_depth=3, learning_rate=0.5, colsample_bytree=0.8 \n",
      "[CV]  subsample=0.9, reg_alpha=0.5, n_estimators=100, min_child_weight=3, max_depth=3, learning_rate=0.5, colsample_bytree=0.8, total=   0.2s\n",
      "[CV] subsample=0.7, reg_alpha=1, n_estimators=150, min_child_weight=7, max_depth=5, learning_rate=1, colsample_bytree=0.8 \n",
      "[CV]  subsample=0.7, reg_alpha=1, n_estimators=150, min_child_weight=7, max_depth=5, learning_rate=1, colsample_bytree=0.8, total=   0.3s\n",
      "[CV] subsample=0.7, reg_alpha=1, n_estimators=150, min_child_weight=7, max_depth=5, learning_rate=1, colsample_bytree=0.8 \n",
      "[CV]  subsample=0.7, reg_alpha=1, n_estimators=150, min_child_weight=7, max_depth=5, learning_rate=1, colsample_bytree=0.8, total=   0.2s\n",
      "[CV] subsample=0.7, reg_alpha=1, n_estimators=100, min_child_weight=3, max_depth=6, learning_rate=0.5, colsample_bytree=0.6 \n",
      "[CV]  subsample=0.7, reg_alpha=1, n_estimators=100, min_child_weight=3, max_depth=6, learning_rate=0.5, colsample_bytree=0.6, total=   0.2s\n",
      "[CV] subsample=0.7, reg_alpha=1, n_estimators=100, min_child_weight=3, max_depth=6, learning_rate=0.5, colsample_bytree=0.6 \n",
      "[CV]  subsample=0.7, reg_alpha=1, n_estimators=100, min_child_weight=3, max_depth=6, learning_rate=0.5, colsample_bytree=0.6, total=   0.2s\n",
      "[CV] subsample=0.7, reg_alpha=0.5, n_estimators=300, min_child_weight=7, max_depth=4, learning_rate=1, colsample_bytree=0.8 \n",
      "[CV]  subsample=0.7, reg_alpha=0.5, n_estimators=300, min_child_weight=7, max_depth=4, learning_rate=1, colsample_bytree=0.8, total=   0.5s\n",
      "[CV] subsample=0.7, reg_alpha=0.5, n_estimators=300, min_child_weight=7, max_depth=4, learning_rate=1, colsample_bytree=0.8 \n",
      "[CV]  subsample=0.7, reg_alpha=0.5, n_estimators=300, min_child_weight=7, max_depth=4, learning_rate=1, colsample_bytree=0.8, total=   0.5s\n",
      "[CV] subsample=0.9, reg_alpha=0.05, n_estimators=100, min_child_weight=7, max_depth=5, learning_rate=0.1, colsample_bytree=0.6 \n",
      "[CV]  subsample=0.9, reg_alpha=0.05, n_estimators=100, min_child_weight=7, max_depth=5, learning_rate=0.1, colsample_bytree=0.6, total=   0.2s\n",
      "[CV] subsample=0.9, reg_alpha=0.05, n_estimators=100, min_child_weight=7, max_depth=5, learning_rate=0.1, colsample_bytree=0.6 \n",
      "[CV]  subsample=0.9, reg_alpha=0.05, n_estimators=100, min_child_weight=7, max_depth=5, learning_rate=0.1, colsample_bytree=0.6, total=   0.2s\n",
      "[CV] subsample=0.9, reg_alpha=1, n_estimators=100, min_child_weight=1, max_depth=3, learning_rate=0.05, colsample_bytree=0.8 \n",
      "[CV]  subsample=0.9, reg_alpha=1, n_estimators=100, min_child_weight=1, max_depth=3, learning_rate=0.05, colsample_bytree=0.8, total=   0.1s\n",
      "[CV] subsample=0.9, reg_alpha=1, n_estimators=100, min_child_weight=1, max_depth=3, learning_rate=0.05, colsample_bytree=0.8 \n",
      "[CV]  subsample=0.9, reg_alpha=1, n_estimators=100, min_child_weight=1, max_depth=3, learning_rate=0.05, colsample_bytree=0.8, total=   0.2s\n",
      "[CV] subsample=0.7, reg_alpha=0.05, n_estimators=100, min_child_weight=1, max_depth=3, learning_rate=0.1, colsample_bytree=0.8 \n",
      "[CV]  subsample=0.7, reg_alpha=0.05, n_estimators=100, min_child_weight=1, max_depth=3, learning_rate=0.1, colsample_bytree=0.8, total=   0.2s\n",
      "[CV] subsample=0.7, reg_alpha=0.05, n_estimators=100, min_child_weight=1, max_depth=3, learning_rate=0.1, colsample_bytree=0.8 \n",
      "[CV]  subsample=0.7, reg_alpha=0.05, n_estimators=100, min_child_weight=1, max_depth=3, learning_rate=0.1, colsample_bytree=0.8, total=   0.2s\n",
      "[CV] subsample=0.9, reg_alpha=0.5, n_estimators=150, min_child_weight=7, max_depth=6, learning_rate=1, colsample_bytree=0.8 \n",
      "[CV]  subsample=0.9, reg_alpha=0.5, n_estimators=150, min_child_weight=7, max_depth=6, learning_rate=1, colsample_bytree=0.8, total=   0.3s\n",
      "[CV] subsample=0.9, reg_alpha=0.5, n_estimators=150, min_child_weight=7, max_depth=6, learning_rate=1, colsample_bytree=0.8 \n",
      "[CV]  subsample=0.9, reg_alpha=0.5, n_estimators=150, min_child_weight=7, max_depth=6, learning_rate=1, colsample_bytree=0.8, total=   0.3s\n",
      "[CV] subsample=0.8, reg_alpha=0.5, n_estimators=150, min_child_weight=3, max_depth=6, learning_rate=0.5, colsample_bytree=0.6 \n",
      "[CV]  subsample=0.8, reg_alpha=0.5, n_estimators=150, min_child_weight=3, max_depth=6, learning_rate=0.5, colsample_bytree=0.6, total=   0.3s\n",
      "[CV] subsample=0.8, reg_alpha=0.5, n_estimators=150, min_child_weight=3, max_depth=6, learning_rate=0.5, colsample_bytree=0.6 \n",
      "[CV]  subsample=0.8, reg_alpha=0.5, n_estimators=150, min_child_weight=3, max_depth=6, learning_rate=0.5, colsample_bytree=0.6, total=   0.3s\n",
      "[CV] subsample=0.7, reg_alpha=0.5, n_estimators=150, min_child_weight=1, max_depth=3, learning_rate=0.05, colsample_bytree=0.8 \n",
      "[CV]  subsample=0.7, reg_alpha=0.5, n_estimators=150, min_child_weight=1, max_depth=3, learning_rate=0.05, colsample_bytree=0.8, total=   0.2s\n",
      "[CV] subsample=0.7, reg_alpha=0.5, n_estimators=150, min_child_weight=1, max_depth=3, learning_rate=0.05, colsample_bytree=0.8 \n",
      "[CV]  subsample=0.7, reg_alpha=0.5, n_estimators=150, min_child_weight=1, max_depth=3, learning_rate=0.05, colsample_bytree=0.8, total=   0.2s\n",
      "[CV] subsample=0.9, reg_alpha=0, n_estimators=150, min_child_weight=7, max_depth=5, learning_rate=0.05, colsample_bytree=0.7 \n",
      "[CV]  subsample=0.9, reg_alpha=0, n_estimators=150, min_child_weight=7, max_depth=5, learning_rate=0.05, colsample_bytree=0.7, total=   0.2s\n",
      "[CV] subsample=0.9, reg_alpha=0, n_estimators=150, min_child_weight=7, max_depth=5, learning_rate=0.05, colsample_bytree=0.7 \n",
      "[CV]  subsample=0.9, reg_alpha=0, n_estimators=150, min_child_weight=7, max_depth=5, learning_rate=0.05, colsample_bytree=0.7, total=   0.2s\n",
      "[CV] subsample=0.8, reg_alpha=1, n_estimators=150, min_child_weight=5, max_depth=6, learning_rate=0.5, colsample_bytree=0.7 \n",
      "[CV]  subsample=0.8, reg_alpha=1, n_estimators=150, min_child_weight=5, max_depth=6, learning_rate=0.5, colsample_bytree=0.7, total=   0.2s\n",
      "[CV] subsample=0.8, reg_alpha=1, n_estimators=150, min_child_weight=5, max_depth=6, learning_rate=0.5, colsample_bytree=0.7 \n",
      "[CV]  subsample=0.8, reg_alpha=1, n_estimators=150, min_child_weight=5, max_depth=6, learning_rate=0.5, colsample_bytree=0.7, total=   0.2s\n",
      "[CV] subsample=0.7, reg_alpha=0.1, n_estimators=250, min_child_weight=5, max_depth=5, learning_rate=1, colsample_bytree=0.6 \n",
      "[CV]  subsample=0.7, reg_alpha=0.1, n_estimators=250, min_child_weight=5, max_depth=5, learning_rate=1, colsample_bytree=0.6, total=   0.4s\n",
      "[CV] subsample=0.7, reg_alpha=0.1, n_estimators=250, min_child_weight=5, max_depth=5, learning_rate=1, colsample_bytree=0.6 \n",
      "[CV]  subsample=0.7, reg_alpha=0.1, n_estimators=250, min_child_weight=5, max_depth=5, learning_rate=1, colsample_bytree=0.6, total=   0.4s\n",
      "[CV] subsample=0.9, reg_alpha=1, n_estimators=300, min_child_weight=1, max_depth=6, learning_rate=0.1, colsample_bytree=0.8 \n",
      "[CV]  subsample=0.9, reg_alpha=1, n_estimators=300, min_child_weight=1, max_depth=6, learning_rate=0.1, colsample_bytree=0.8, total=   1.1s\n",
      "[CV] subsample=0.9, reg_alpha=1, n_estimators=300, min_child_weight=1, max_depth=6, learning_rate=0.1, colsample_bytree=0.8 \n",
      "[CV]  subsample=0.9, reg_alpha=1, n_estimators=300, min_child_weight=1, max_depth=6, learning_rate=0.1, colsample_bytree=0.8, total=   1.1s\n",
      "[CV] subsample=0.8, reg_alpha=0.05, n_estimators=100, min_child_weight=7, max_depth=3, learning_rate=0.5, colsample_bytree=0.7 \n",
      "[CV]  subsample=0.8, reg_alpha=0.05, n_estimators=100, min_child_weight=7, max_depth=3, learning_rate=0.5, colsample_bytree=0.7, total=   0.3s\n",
      "[CV] subsample=0.8, reg_alpha=0.05, n_estimators=100, min_child_weight=7, max_depth=3, learning_rate=0.5, colsample_bytree=0.7 \n",
      "[CV]  subsample=0.8, reg_alpha=0.05, n_estimators=100, min_child_weight=7, max_depth=3, learning_rate=0.5, colsample_bytree=0.7, total=   0.3s\n",
      "[CV] subsample=0.9, reg_alpha=0, n_estimators=250, min_child_weight=7, max_depth=5, learning_rate=0.1, colsample_bytree=0.8 \n",
      "[CV]  subsample=0.9, reg_alpha=0, n_estimators=250, min_child_weight=7, max_depth=5, learning_rate=0.1, colsample_bytree=0.8, total=   0.9s\n",
      "[CV] subsample=0.9, reg_alpha=0, n_estimators=250, min_child_weight=7, max_depth=5, learning_rate=0.1, colsample_bytree=0.8 \n",
      "[CV]  subsample=0.9, reg_alpha=0, n_estimators=250, min_child_weight=7, max_depth=5, learning_rate=0.1, colsample_bytree=0.8, total=   0.9s\n",
      "[CV] subsample=0.9, reg_alpha=1, n_estimators=250, min_child_weight=3, max_depth=4, learning_rate=0.5, colsample_bytree=0.7 \n",
      "[CV]  subsample=0.9, reg_alpha=1, n_estimators=250, min_child_weight=3, max_depth=4, learning_rate=0.5, colsample_bytree=0.7, total=   0.8s\n",
      "[CV] subsample=0.9, reg_alpha=1, n_estimators=250, min_child_weight=3, max_depth=4, learning_rate=0.5, colsample_bytree=0.7 \n",
      "[CV]  subsample=0.9, reg_alpha=1, n_estimators=250, min_child_weight=3, max_depth=4, learning_rate=0.5, colsample_bytree=0.7, total=   0.8s\n",
      "[CV] subsample=0.7, reg_alpha=0.5, n_estimators=150, min_child_weight=1, max_depth=5, learning_rate=0.05, colsample_bytree=0.7 \n",
      "[CV]  subsample=0.7, reg_alpha=0.5, n_estimators=150, min_child_weight=1, max_depth=5, learning_rate=0.05, colsample_bytree=0.7, total=   0.6s\n",
      "[CV] subsample=0.7, reg_alpha=0.5, n_estimators=150, min_child_weight=1, max_depth=5, learning_rate=0.05, colsample_bytree=0.7 \n",
      "[CV]  subsample=0.7, reg_alpha=0.5, n_estimators=150, min_child_weight=1, max_depth=5, learning_rate=0.05, colsample_bytree=0.7, total=   0.6s\n",
      "[CV] subsample=0.9, reg_alpha=1, n_estimators=200, min_child_weight=3, max_depth=6, learning_rate=0.05, colsample_bytree=0.6 \n",
      "[CV]  subsample=0.9, reg_alpha=1, n_estimators=200, min_child_weight=3, max_depth=6, learning_rate=0.05, colsample_bytree=0.6, total=   0.7s\n",
      "[CV] subsample=0.9, reg_alpha=1, n_estimators=200, min_child_weight=3, max_depth=6, learning_rate=0.05, colsample_bytree=0.6 \n",
      "[CV]  subsample=0.9, reg_alpha=1, n_estimators=200, min_child_weight=3, max_depth=6, learning_rate=0.05, colsample_bytree=0.6, total=   0.8s\n",
      "[CV] subsample=0.7, reg_alpha=0.1, n_estimators=300, min_child_weight=7, max_depth=6, learning_rate=0.5, colsample_bytree=0.8 \n",
      "[CV]  subsample=0.7, reg_alpha=0.1, n_estimators=300, min_child_weight=7, max_depth=6, learning_rate=0.5, colsample_bytree=0.8, total=   1.2s\n",
      "[CV] subsample=0.7, reg_alpha=0.1, n_estimators=300, min_child_weight=7, max_depth=6, learning_rate=0.5, colsample_bytree=0.8 \n",
      "[CV]  subsample=0.7, reg_alpha=0.1, n_estimators=300, min_child_weight=7, max_depth=6, learning_rate=0.5, colsample_bytree=0.8, total=   1.1s\n",
      "[CV] subsample=0.7, reg_alpha=0.5, n_estimators=150, min_child_weight=7, max_depth=5, learning_rate=0.1, colsample_bytree=0.8 \n",
      "[CV]  subsample=0.7, reg_alpha=0.5, n_estimators=150, min_child_weight=7, max_depth=5, learning_rate=0.1, colsample_bytree=0.8, total=   0.6s\n",
      "[CV] subsample=0.7, reg_alpha=0.5, n_estimators=150, min_child_weight=7, max_depth=5, learning_rate=0.1, colsample_bytree=0.8 \n",
      "[CV]  subsample=0.7, reg_alpha=0.5, n_estimators=150, min_child_weight=7, max_depth=5, learning_rate=0.1, colsample_bytree=0.8, total=   0.3s\n",
      "[CV] subsample=0.8, reg_alpha=0.5, n_estimators=250, min_child_weight=7, max_depth=4, learning_rate=1, colsample_bytree=0.7 \n",
      "[CV]  subsample=0.8, reg_alpha=0.5, n_estimators=250, min_child_weight=7, max_depth=4, learning_rate=1, colsample_bytree=0.7, total=   0.4s\n",
      "[CV] subsample=0.8, reg_alpha=0.5, n_estimators=250, min_child_weight=7, max_depth=4, learning_rate=1, colsample_bytree=0.7 \n",
      "[CV]  subsample=0.8, reg_alpha=0.5, n_estimators=250, min_child_weight=7, max_depth=4, learning_rate=1, colsample_bytree=0.7, total=   0.4s\n",
      "[CV] subsample=0.8, reg_alpha=0.1, n_estimators=100, min_child_weight=7, max_depth=3, learning_rate=0.05, colsample_bytree=0.6 \n",
      "[CV]  subsample=0.8, reg_alpha=0.1, n_estimators=100, min_child_weight=7, max_depth=3, learning_rate=0.05, colsample_bytree=0.6, total=   0.2s\n",
      "[CV] subsample=0.8, reg_alpha=0.1, n_estimators=100, min_child_weight=7, max_depth=3, learning_rate=0.05, colsample_bytree=0.6 \n",
      "[CV]  subsample=0.8, reg_alpha=0.1, n_estimators=100, min_child_weight=7, max_depth=3, learning_rate=0.05, colsample_bytree=0.6, total=   0.2s\n",
      "[CV] subsample=0.7, reg_alpha=0.5, n_estimators=150, min_child_weight=5, max_depth=5, learning_rate=0.1, colsample_bytree=0.8 \n",
      "[CV]  subsample=0.7, reg_alpha=0.5, n_estimators=150, min_child_weight=5, max_depth=5, learning_rate=0.1, colsample_bytree=0.8, total=   0.3s\n",
      "[CV] subsample=0.7, reg_alpha=0.5, n_estimators=150, min_child_weight=5, max_depth=5, learning_rate=0.1, colsample_bytree=0.8 \n",
      "[CV]  subsample=0.7, reg_alpha=0.5, n_estimators=150, min_child_weight=5, max_depth=5, learning_rate=0.1, colsample_bytree=0.8, total=   0.3s\n",
      "[CV] subsample=0.8, reg_alpha=0.1, n_estimators=100, min_child_weight=7, max_depth=5, learning_rate=0.1, colsample_bytree=0.6 \n",
      "[CV]  subsample=0.8, reg_alpha=0.1, n_estimators=100, min_child_weight=7, max_depth=5, learning_rate=0.1, colsample_bytree=0.6, total=   0.2s\n",
      "[CV] subsample=0.8, reg_alpha=0.1, n_estimators=100, min_child_weight=7, max_depth=5, learning_rate=0.1, colsample_bytree=0.6 \n",
      "[CV]  subsample=0.8, reg_alpha=0.1, n_estimators=100, min_child_weight=7, max_depth=5, learning_rate=0.1, colsample_bytree=0.6, total=   0.2s\n",
      "[CV] subsample=0.8, reg_alpha=0.5, n_estimators=150, min_child_weight=5, max_depth=4, learning_rate=0.5, colsample_bytree=0.7 \n",
      "[CV]  subsample=0.8, reg_alpha=0.5, n_estimators=150, min_child_weight=5, max_depth=4, learning_rate=0.5, colsample_bytree=0.7, total=   0.3s\n",
      "[CV] subsample=0.8, reg_alpha=0.5, n_estimators=150, min_child_weight=5, max_depth=4, learning_rate=0.5, colsample_bytree=0.7 \n",
      "[CV]  subsample=0.8, reg_alpha=0.5, n_estimators=150, min_child_weight=5, max_depth=4, learning_rate=0.5, colsample_bytree=0.7, total=   0.2s\n",
      "[CV] subsample=0.9, reg_alpha=1, n_estimators=250, min_child_weight=7, max_depth=5, learning_rate=0.05, colsample_bytree=0.8 \n",
      "[CV]  subsample=0.9, reg_alpha=1, n_estimators=250, min_child_weight=7, max_depth=5, learning_rate=0.05, colsample_bytree=0.8, total=   0.4s\n",
      "[CV] subsample=0.9, reg_alpha=1, n_estimators=250, min_child_weight=7, max_depth=5, learning_rate=0.05, colsample_bytree=0.8 \n",
      "[CV]  subsample=0.9, reg_alpha=1, n_estimators=250, min_child_weight=7, max_depth=5, learning_rate=0.05, colsample_bytree=0.8, total=   0.4s\n",
      "[CV] subsample=0.9, reg_alpha=0.1, n_estimators=150, min_child_weight=1, max_depth=4, learning_rate=1, colsample_bytree=0.8 \n",
      "[CV]  subsample=0.9, reg_alpha=0.1, n_estimators=150, min_child_weight=1, max_depth=4, learning_rate=1, colsample_bytree=0.8, total=   0.3s\n",
      "[CV] subsample=0.9, reg_alpha=0.1, n_estimators=150, min_child_weight=1, max_depth=4, learning_rate=1, colsample_bytree=0.8 \n",
      "[CV]  subsample=0.9, reg_alpha=0.1, n_estimators=150, min_child_weight=1, max_depth=4, learning_rate=1, colsample_bytree=0.8, total=   0.5s\n",
      "[CV] subsample=0.8, reg_alpha=0, n_estimators=100, min_child_weight=5, max_depth=3, learning_rate=0.05, colsample_bytree=0.7 \n",
      "[CV]  subsample=0.8, reg_alpha=0, n_estimators=100, min_child_weight=5, max_depth=3, learning_rate=0.05, colsample_bytree=0.7, total=   0.3s\n",
      "[CV] subsample=0.8, reg_alpha=0, n_estimators=100, min_child_weight=5, max_depth=3, learning_rate=0.05, colsample_bytree=0.7 \n",
      "[CV]  subsample=0.8, reg_alpha=0, n_estimators=100, min_child_weight=5, max_depth=3, learning_rate=0.05, colsample_bytree=0.7, total=   0.3s\n",
      "[CV] subsample=0.7, reg_alpha=0.05, n_estimators=100, min_child_weight=1, max_depth=6, learning_rate=1, colsample_bytree=0.6 \n",
      "[CV]  subsample=0.7, reg_alpha=0.05, n_estimators=100, min_child_weight=1, max_depth=6, learning_rate=1, colsample_bytree=0.6, total=   0.4s\n",
      "[CV] subsample=0.7, reg_alpha=0.05, n_estimators=100, min_child_weight=1, max_depth=6, learning_rate=1, colsample_bytree=0.6 \n",
      "[CV]  subsample=0.7, reg_alpha=0.05, n_estimators=100, min_child_weight=1, max_depth=6, learning_rate=1, colsample_bytree=0.6, total=   0.4s\n",
      "[CV] subsample=0.7, reg_alpha=1, n_estimators=250, min_child_weight=1, max_depth=6, learning_rate=0.5, colsample_bytree=0.6 \n",
      "[CV]  subsample=0.7, reg_alpha=1, n_estimators=250, min_child_weight=1, max_depth=6, learning_rate=0.5, colsample_bytree=0.6, total=   0.9s\n",
      "[CV] subsample=0.7, reg_alpha=1, n_estimators=250, min_child_weight=1, max_depth=6, learning_rate=0.5, colsample_bytree=0.6 \n",
      "[CV]  subsample=0.7, reg_alpha=1, n_estimators=250, min_child_weight=1, max_depth=6, learning_rate=0.5, colsample_bytree=0.6, total=   0.9s\n",
      "[CV] subsample=0.7, reg_alpha=0.05, n_estimators=200, min_child_weight=3, max_depth=3, learning_rate=1, colsample_bytree=0.8 \n",
      "[CV]  subsample=0.7, reg_alpha=0.05, n_estimators=200, min_child_weight=3, max_depth=3, learning_rate=1, colsample_bytree=0.8, total=   0.6s\n",
      "[CV] subsample=0.7, reg_alpha=0.05, n_estimators=200, min_child_weight=3, max_depth=3, learning_rate=1, colsample_bytree=0.8 \n",
      "[CV]  subsample=0.7, reg_alpha=0.05, n_estimators=200, min_child_weight=3, max_depth=3, learning_rate=1, colsample_bytree=0.8, total=   0.6s\n",
      "[CV] subsample=0.8, reg_alpha=1, n_estimators=250, min_child_weight=1, max_depth=4, learning_rate=1, colsample_bytree=0.7 \n",
      "[CV]  subsample=0.8, reg_alpha=1, n_estimators=250, min_child_weight=1, max_depth=4, learning_rate=1, colsample_bytree=0.7, total=   0.8s\n",
      "[CV] subsample=0.8, reg_alpha=1, n_estimators=250, min_child_weight=1, max_depth=4, learning_rate=1, colsample_bytree=0.7 \n",
      "[CV]  subsample=0.8, reg_alpha=1, n_estimators=250, min_child_weight=1, max_depth=4, learning_rate=1, colsample_bytree=0.7, total=   0.8s\n",
      "[CV] subsample=0.8, reg_alpha=0.1, n_estimators=200, min_child_weight=7, max_depth=5, learning_rate=0.5, colsample_bytree=0.7 \n",
      "[CV]  subsample=0.8, reg_alpha=0.1, n_estimators=200, min_child_weight=7, max_depth=5, learning_rate=0.5, colsample_bytree=0.7, total=   0.7s\n",
      "[CV] subsample=0.8, reg_alpha=0.1, n_estimators=200, min_child_weight=7, max_depth=5, learning_rate=0.5, colsample_bytree=0.7 \n",
      "[CV]  subsample=0.8, reg_alpha=0.1, n_estimators=200, min_child_weight=7, max_depth=5, learning_rate=0.5, colsample_bytree=0.7, total=   0.7s\n",
      "[CV] subsample=0.7, reg_alpha=0.05, n_estimators=150, min_child_weight=3, max_depth=5, learning_rate=0.5, colsample_bytree=0.8 \n",
      "[CV]  subsample=0.7, reg_alpha=0.05, n_estimators=150, min_child_weight=3, max_depth=5, learning_rate=0.5, colsample_bytree=0.8, total=   0.6s\n",
      "[CV] subsample=0.7, reg_alpha=0.05, n_estimators=150, min_child_weight=3, max_depth=5, learning_rate=0.5, colsample_bytree=0.8 \n",
      "[CV]  subsample=0.7, reg_alpha=0.05, n_estimators=150, min_child_weight=3, max_depth=5, learning_rate=0.5, colsample_bytree=0.8, total=   0.6s\n",
      "[CV] subsample=0.9, reg_alpha=0.05, n_estimators=150, min_child_weight=3, max_depth=3, learning_rate=1, colsample_bytree=0.8 \n",
      "[CV]  subsample=0.9, reg_alpha=0.05, n_estimators=150, min_child_weight=3, max_depth=3, learning_rate=1, colsample_bytree=0.8, total=   0.5s\n",
      "[CV] subsample=0.9, reg_alpha=0.05, n_estimators=150, min_child_weight=3, max_depth=3, learning_rate=1, colsample_bytree=0.8 \n",
      "[CV]  subsample=0.9, reg_alpha=0.05, n_estimators=150, min_child_weight=3, max_depth=3, learning_rate=1, colsample_bytree=0.8, total=   0.5s\n",
      "[CV] subsample=0.7, reg_alpha=0.1, n_estimators=100, min_child_weight=1, max_depth=6, learning_rate=1, colsample_bytree=0.8 \n",
      "[CV]  subsample=0.7, reg_alpha=0.1, n_estimators=100, min_child_weight=1, max_depth=6, learning_rate=1, colsample_bytree=0.8, total=   0.4s\n",
      "[CV] subsample=0.7, reg_alpha=0.1, n_estimators=100, min_child_weight=1, max_depth=6, learning_rate=1, colsample_bytree=0.8 \n",
      "[CV]  subsample=0.7, reg_alpha=0.1, n_estimators=100, min_child_weight=1, max_depth=6, learning_rate=1, colsample_bytree=0.8, total=   0.5s\n",
      "[CV] subsample=0.8, reg_alpha=0.05, n_estimators=200, min_child_weight=5, max_depth=5, learning_rate=0.05, colsample_bytree=0.8 \n",
      "[CV]  subsample=0.8, reg_alpha=0.05, n_estimators=200, min_child_weight=5, max_depth=5, learning_rate=0.05, colsample_bytree=0.8, total=   0.5s\n",
      "[CV] subsample=0.8, reg_alpha=0.05, n_estimators=200, min_child_weight=5, max_depth=5, learning_rate=0.05, colsample_bytree=0.8 \n",
      "[CV]  subsample=0.8, reg_alpha=0.05, n_estimators=200, min_child_weight=5, max_depth=5, learning_rate=0.05, colsample_bytree=0.8, total=   0.4s\n",
      "[CV] subsample=0.9, reg_alpha=0.1, n_estimators=300, min_child_weight=3, max_depth=4, learning_rate=1, colsample_bytree=0.6 \n",
      "[CV]  subsample=0.9, reg_alpha=0.1, n_estimators=300, min_child_weight=3, max_depth=4, learning_rate=1, colsample_bytree=0.6, total=   0.5s\n",
      "[CV] subsample=0.9, reg_alpha=0.1, n_estimators=300, min_child_weight=3, max_depth=4, learning_rate=1, colsample_bytree=0.6 \n",
      "[CV]  subsample=0.9, reg_alpha=0.1, n_estimators=300, min_child_weight=3, max_depth=4, learning_rate=1, colsample_bytree=0.6, total=   0.5s\n",
      "[CV] subsample=0.7, reg_alpha=0.05, n_estimators=100, min_child_weight=3, max_depth=5, learning_rate=0.1, colsample_bytree=0.6 \n",
      "[CV]  subsample=0.7, reg_alpha=0.05, n_estimators=100, min_child_weight=3, max_depth=5, learning_rate=0.1, colsample_bytree=0.6, total=   0.2s\n",
      "[CV] subsample=0.7, reg_alpha=0.05, n_estimators=100, min_child_weight=3, max_depth=5, learning_rate=0.1, colsample_bytree=0.6 \n",
      "[CV]  subsample=0.7, reg_alpha=0.05, n_estimators=100, min_child_weight=3, max_depth=5, learning_rate=0.1, colsample_bytree=0.6, total=   0.2s\n",
      "[CV] subsample=0.9, reg_alpha=0.05, n_estimators=150, min_child_weight=3, max_depth=3, learning_rate=0.5, colsample_bytree=0.8 \n",
      "[CV]  subsample=0.9, reg_alpha=0.05, n_estimators=150, min_child_weight=3, max_depth=3, learning_rate=0.5, colsample_bytree=0.8, total=   0.2s\n",
      "[CV] subsample=0.9, reg_alpha=0.05, n_estimators=150, min_child_weight=3, max_depth=3, learning_rate=0.5, colsample_bytree=0.8 \n",
      "[CV]  subsample=0.9, reg_alpha=0.05, n_estimators=150, min_child_weight=3, max_depth=3, learning_rate=0.5, colsample_bytree=0.8, total=   0.2s\n",
      "[CV] subsample=0.9, reg_alpha=0.1, n_estimators=300, min_child_weight=1, max_depth=3, learning_rate=1, colsample_bytree=0.7 \n",
      "[CV]  subsample=0.9, reg_alpha=0.1, n_estimators=300, min_child_weight=1, max_depth=3, learning_rate=1, colsample_bytree=0.7, total=   0.4s\n",
      "[CV] subsample=0.9, reg_alpha=0.1, n_estimators=300, min_child_weight=1, max_depth=3, learning_rate=1, colsample_bytree=0.7 \n",
      "[CV]  subsample=0.9, reg_alpha=0.1, n_estimators=300, min_child_weight=1, max_depth=3, learning_rate=1, colsample_bytree=0.7, total=   0.4s\n",
      "[CV] subsample=0.8, reg_alpha=1, n_estimators=300, min_child_weight=5, max_depth=3, learning_rate=0.1, colsample_bytree=0.6 \n",
      "[CV]  subsample=0.8, reg_alpha=1, n_estimators=300, min_child_weight=5, max_depth=3, learning_rate=0.1, colsample_bytree=0.6, total=   0.4s\n",
      "[CV] subsample=0.8, reg_alpha=1, n_estimators=300, min_child_weight=5, max_depth=3, learning_rate=0.1, colsample_bytree=0.6 \n",
      "[CV]  subsample=0.8, reg_alpha=1, n_estimators=300, min_child_weight=5, max_depth=3, learning_rate=0.1, colsample_bytree=0.6, total=   0.6s\n",
      "[CV] subsample=0.7, reg_alpha=1, n_estimators=250, min_child_weight=1, max_depth=4, learning_rate=0.5, colsample_bytree=0.8 \n",
      "[CV]  subsample=0.7, reg_alpha=1, n_estimators=250, min_child_weight=1, max_depth=4, learning_rate=0.5, colsample_bytree=0.8, total=   0.9s\n",
      "[CV] subsample=0.7, reg_alpha=1, n_estimators=250, min_child_weight=1, max_depth=4, learning_rate=0.5, colsample_bytree=0.8 \n",
      "[CV]  subsample=0.7, reg_alpha=1, n_estimators=250, min_child_weight=1, max_depth=4, learning_rate=0.5, colsample_bytree=0.8, total=   0.9s\n",
      "[CV] subsample=0.7, reg_alpha=1, n_estimators=150, min_child_weight=7, max_depth=4, learning_rate=0.5, colsample_bytree=0.8 \n",
      "[CV]  subsample=0.7, reg_alpha=1, n_estimators=150, min_child_weight=7, max_depth=4, learning_rate=0.5, colsample_bytree=0.8, total=   0.6s\n",
      "[CV] subsample=0.7, reg_alpha=1, n_estimators=150, min_child_weight=7, max_depth=4, learning_rate=0.5, colsample_bytree=0.8 \n",
      "[CV]  subsample=0.7, reg_alpha=1, n_estimators=150, min_child_weight=7, max_depth=4, learning_rate=0.5, colsample_bytree=0.8, total=   0.5s\n",
      "[CV] subsample=0.9, reg_alpha=0.1, n_estimators=150, min_child_weight=5, max_depth=5, learning_rate=0.5, colsample_bytree=0.6 \n",
      "[CV]  subsample=0.9, reg_alpha=0.1, n_estimators=150, min_child_weight=5, max_depth=5, learning_rate=0.5, colsample_bytree=0.6, total=   0.6s\n",
      "[CV] subsample=0.9, reg_alpha=0.1, n_estimators=150, min_child_weight=5, max_depth=5, learning_rate=0.5, colsample_bytree=0.6 \n",
      "[CV]  subsample=0.9, reg_alpha=0.1, n_estimators=150, min_child_weight=5, max_depth=5, learning_rate=0.5, colsample_bytree=0.6, total=   0.6s\n",
      "[CV] subsample=0.7, reg_alpha=0, n_estimators=150, min_child_weight=5, max_depth=4, learning_rate=0.1, colsample_bytree=0.6 \n",
      "[CV]  subsample=0.7, reg_alpha=0, n_estimators=150, min_child_weight=5, max_depth=4, learning_rate=0.1, colsample_bytree=0.6, total=   0.6s\n",
      "[CV] subsample=0.7, reg_alpha=0, n_estimators=150, min_child_weight=5, max_depth=4, learning_rate=0.1, colsample_bytree=0.6 \n",
      "[CV]  subsample=0.7, reg_alpha=0, n_estimators=150, min_child_weight=5, max_depth=4, learning_rate=0.1, colsample_bytree=0.6, total=   0.6s\n",
      "[CV] subsample=0.9, reg_alpha=0.5, n_estimators=150, min_child_weight=3, max_depth=6, learning_rate=0.1, colsample_bytree=0.7 \n",
      "[CV]  subsample=0.9, reg_alpha=0.5, n_estimators=150, min_child_weight=3, max_depth=6, learning_rate=0.1, colsample_bytree=0.7, total=   0.6s\n",
      "[CV] subsample=0.9, reg_alpha=0.5, n_estimators=150, min_child_weight=3, max_depth=6, learning_rate=0.1, colsample_bytree=0.7 \n",
      "[CV]  subsample=0.9, reg_alpha=0.5, n_estimators=150, min_child_weight=3, max_depth=6, learning_rate=0.1, colsample_bytree=0.7, total=   0.6s\n",
      "[CV] subsample=0.7, reg_alpha=1, n_estimators=300, min_child_weight=5, max_depth=3, learning_rate=0.1, colsample_bytree=0.8 \n",
      "[CV]  subsample=0.7, reg_alpha=1, n_estimators=300, min_child_weight=5, max_depth=3, learning_rate=0.1, colsample_bytree=0.8, total=   0.9s\n",
      "[CV] subsample=0.7, reg_alpha=1, n_estimators=300, min_child_weight=5, max_depth=3, learning_rate=0.1, colsample_bytree=0.8 \n",
      "[CV]  subsample=0.7, reg_alpha=1, n_estimators=300, min_child_weight=5, max_depth=3, learning_rate=0.1, colsample_bytree=0.8, total=   0.9s\n",
      "[CV] subsample=0.8, reg_alpha=0, n_estimators=100, min_child_weight=1, max_depth=6, learning_rate=1, colsample_bytree=0.7 \n",
      "[CV]  subsample=0.8, reg_alpha=0, n_estimators=100, min_child_weight=1, max_depth=6, learning_rate=1, colsample_bytree=0.7, total=   0.5s\n",
      "[CV] subsample=0.8, reg_alpha=0, n_estimators=100, min_child_weight=1, max_depth=6, learning_rate=1, colsample_bytree=0.7 \n",
      "[CV]  subsample=0.8, reg_alpha=0, n_estimators=100, min_child_weight=1, max_depth=6, learning_rate=1, colsample_bytree=0.7, total=   0.5s\n",
      "[CV] subsample=0.8, reg_alpha=0.05, n_estimators=150, min_child_weight=3, max_depth=3, learning_rate=0.5, colsample_bytree=0.7 \n",
      "[CV]  subsample=0.8, reg_alpha=0.05, n_estimators=150, min_child_weight=3, max_depth=3, learning_rate=0.5, colsample_bytree=0.7, total=   0.5s\n",
      "[CV] subsample=0.8, reg_alpha=0.05, n_estimators=150, min_child_weight=3, max_depth=3, learning_rate=0.5, colsample_bytree=0.7 \n",
      "[CV]  subsample=0.8, reg_alpha=0.05, n_estimators=150, min_child_weight=3, max_depth=3, learning_rate=0.5, colsample_bytree=0.7, total=   0.5s\n",
      "[CV] subsample=0.7, reg_alpha=0.5, n_estimators=250, min_child_weight=1, max_depth=6, learning_rate=0.1, colsample_bytree=0.8 \n",
      "[CV]  subsample=0.7, reg_alpha=0.5, n_estimators=250, min_child_weight=1, max_depth=6, learning_rate=0.1, colsample_bytree=0.8, total=   1.2s\n",
      "[CV] subsample=0.7, reg_alpha=0.5, n_estimators=250, min_child_weight=1, max_depth=6, learning_rate=0.1, colsample_bytree=0.8 \n",
      "[CV]  subsample=0.7, reg_alpha=0.5, n_estimators=250, min_child_weight=1, max_depth=6, learning_rate=0.1, colsample_bytree=0.8, total=   0.6s\n",
      "[CV] subsample=0.9, reg_alpha=0.05, n_estimators=150, min_child_weight=7, max_depth=5, learning_rate=0.1, colsample_bytree=0.8 \n",
      "[CV]  subsample=0.9, reg_alpha=0.05, n_estimators=150, min_child_weight=7, max_depth=5, learning_rate=0.1, colsample_bytree=0.8, total=   0.3s\n",
      "[CV] subsample=0.9, reg_alpha=0.05, n_estimators=150, min_child_weight=7, max_depth=5, learning_rate=0.1, colsample_bytree=0.8 \n",
      "[CV]  subsample=0.9, reg_alpha=0.05, n_estimators=150, min_child_weight=7, max_depth=5, learning_rate=0.1, colsample_bytree=0.8, total=   0.3s\n",
      "[CV] subsample=0.7, reg_alpha=0.05, n_estimators=100, min_child_weight=1, max_depth=4, learning_rate=0.05, colsample_bytree=0.6 \n",
      "[CV]  subsample=0.7, reg_alpha=0.05, n_estimators=100, min_child_weight=1, max_depth=4, learning_rate=0.05, colsample_bytree=0.6, total=   0.2s\n",
      "[CV] subsample=0.7, reg_alpha=0.05, n_estimators=100, min_child_weight=1, max_depth=4, learning_rate=0.05, colsample_bytree=0.6 \n",
      "[CV]  subsample=0.7, reg_alpha=0.05, n_estimators=100, min_child_weight=1, max_depth=4, learning_rate=0.05, colsample_bytree=0.6, total=   0.2s\n",
      "[CV] subsample=0.7, reg_alpha=0, n_estimators=250, min_child_weight=5, max_depth=5, learning_rate=0.5, colsample_bytree=0.6 \n",
      "[CV]  subsample=0.7, reg_alpha=0, n_estimators=250, min_child_weight=5, max_depth=5, learning_rate=0.5, colsample_bytree=0.6, total=   0.4s\n",
      "[CV] subsample=0.7, reg_alpha=0, n_estimators=250, min_child_weight=5, max_depth=5, learning_rate=0.5, colsample_bytree=0.6 \n",
      "[CV]  subsample=0.7, reg_alpha=0, n_estimators=250, min_child_weight=5, max_depth=5, learning_rate=0.5, colsample_bytree=0.6, total=   0.4s\n",
      "[CV] subsample=0.8, reg_alpha=0.1, n_estimators=150, min_child_weight=3, max_depth=5, learning_rate=0.5, colsample_bytree=0.6 \n",
      "[CV]  subsample=0.8, reg_alpha=0.1, n_estimators=150, min_child_weight=3, max_depth=5, learning_rate=0.5, colsample_bytree=0.6, total=   0.3s\n",
      "[CV] subsample=0.8, reg_alpha=0.1, n_estimators=150, min_child_weight=3, max_depth=5, learning_rate=0.5, colsample_bytree=0.6 \n",
      "[CV]  subsample=0.8, reg_alpha=0.1, n_estimators=150, min_child_weight=3, max_depth=5, learning_rate=0.5, colsample_bytree=0.6, total=   0.3s\n",
      "[CV] subsample=0.8, reg_alpha=0.5, n_estimators=250, min_child_weight=1, max_depth=6, learning_rate=0.1, colsample_bytree=0.6 \n",
      "[CV]  subsample=0.8, reg_alpha=0.5, n_estimators=250, min_child_weight=1, max_depth=6, learning_rate=0.1, colsample_bytree=0.6, total=   0.5s\n",
      "[CV] subsample=0.8, reg_alpha=0.5, n_estimators=250, min_child_weight=1, max_depth=6, learning_rate=0.1, colsample_bytree=0.6 \n",
      "[CV]  subsample=0.8, reg_alpha=0.5, n_estimators=250, min_child_weight=1, max_depth=6, learning_rate=0.1, colsample_bytree=0.6, total=   0.6s\n",
      "[CV] subsample=0.7, reg_alpha=0.5, n_estimators=100, min_child_weight=3, max_depth=5, learning_rate=0.1, colsample_bytree=0.6 \n",
      "[CV]  subsample=0.7, reg_alpha=0.5, n_estimators=100, min_child_weight=3, max_depth=5, learning_rate=0.1, colsample_bytree=0.6, total=   0.4s\n",
      "[CV] subsample=0.7, reg_alpha=0.5, n_estimators=100, min_child_weight=3, max_depth=5, learning_rate=0.1, colsample_bytree=0.6 \n",
      "[CV]  subsample=0.7, reg_alpha=0.5, n_estimators=100, min_child_weight=3, max_depth=5, learning_rate=0.1, colsample_bytree=0.6, total=   0.4s\n",
      "[CV] subsample=0.8, reg_alpha=0.05, n_estimators=200, min_child_weight=3, max_depth=4, learning_rate=0.1, colsample_bytree=0.8 \n",
      "[CV]  subsample=0.8, reg_alpha=0.05, n_estimators=200, min_child_weight=3, max_depth=4, learning_rate=0.1, colsample_bytree=0.8, total=   0.7s\n",
      "[CV] subsample=0.8, reg_alpha=0.05, n_estimators=200, min_child_weight=3, max_depth=4, learning_rate=0.1, colsample_bytree=0.8 \n",
      "[CV]  subsample=0.8, reg_alpha=0.05, n_estimators=200, min_child_weight=3, max_depth=4, learning_rate=0.1, colsample_bytree=0.8, total=   0.7s\n",
      "[CV] subsample=0.8, reg_alpha=1, n_estimators=300, min_child_weight=5, max_depth=6, learning_rate=0.05, colsample_bytree=0.7 \n",
      "[CV]  subsample=0.8, reg_alpha=1, n_estimators=300, min_child_weight=5, max_depth=6, learning_rate=0.05, colsample_bytree=0.7, total=   1.0s\n",
      "[CV] subsample=0.8, reg_alpha=1, n_estimators=300, min_child_weight=5, max_depth=6, learning_rate=0.05, colsample_bytree=0.7 \n",
      "[CV]  subsample=0.8, reg_alpha=1, n_estimators=300, min_child_weight=5, max_depth=6, learning_rate=0.05, colsample_bytree=0.7, total=   1.0s\n",
      "[CV] subsample=0.8, reg_alpha=1, n_estimators=300, min_child_weight=1, max_depth=3, learning_rate=0.05, colsample_bytree=0.7 \n",
      "[CV]  subsample=0.8, reg_alpha=1, n_estimators=300, min_child_weight=1, max_depth=3, learning_rate=0.05, colsample_bytree=0.7, total=   0.9s\n",
      "[CV] subsample=0.8, reg_alpha=1, n_estimators=300, min_child_weight=1, max_depth=3, learning_rate=0.05, colsample_bytree=0.7 \n",
      "[CV]  subsample=0.8, reg_alpha=1, n_estimators=300, min_child_weight=1, max_depth=3, learning_rate=0.05, colsample_bytree=0.7, total=   0.9s\n",
      "[CV] subsample=0.7, reg_alpha=0.5, n_estimators=150, min_child_weight=3, max_depth=4, learning_rate=0.05, colsample_bytree=0.7 \n",
      "[CV]  subsample=0.7, reg_alpha=0.5, n_estimators=150, min_child_weight=3, max_depth=4, learning_rate=0.05, colsample_bytree=0.7, total=   0.5s\n",
      "[CV] subsample=0.7, reg_alpha=0.5, n_estimators=150, min_child_weight=3, max_depth=4, learning_rate=0.05, colsample_bytree=0.7 \n",
      "[CV]  subsample=0.7, reg_alpha=0.5, n_estimators=150, min_child_weight=3, max_depth=4, learning_rate=0.05, colsample_bytree=0.7, total=   0.5s\n",
      "[CV] subsample=0.7, reg_alpha=0.1, n_estimators=200, min_child_weight=5, max_depth=6, learning_rate=0.5, colsample_bytree=0.8 \n",
      "[CV]  subsample=0.7, reg_alpha=0.1, n_estimators=200, min_child_weight=5, max_depth=6, learning_rate=0.5, colsample_bytree=0.8, total=   0.7s\n",
      "[CV] subsample=0.7, reg_alpha=0.1, n_estimators=200, min_child_weight=5, max_depth=6, learning_rate=0.5, colsample_bytree=0.8 \n",
      "[CV]  subsample=0.7, reg_alpha=0.1, n_estimators=200, min_child_weight=5, max_depth=6, learning_rate=0.5, colsample_bytree=0.8, total=   0.7s\n",
      "[CV] subsample=0.7, reg_alpha=0.05, n_estimators=250, min_child_weight=5, max_depth=4, learning_rate=0.5, colsample_bytree=0.7 \n",
      "[CV]  subsample=0.7, reg_alpha=0.05, n_estimators=250, min_child_weight=5, max_depth=4, learning_rate=0.5, colsample_bytree=0.7, total=   0.8s\n",
      "[CV] subsample=0.7, reg_alpha=0.05, n_estimators=250, min_child_weight=5, max_depth=4, learning_rate=0.5, colsample_bytree=0.7 \n",
      "[CV]  subsample=0.7, reg_alpha=0.05, n_estimators=250, min_child_weight=5, max_depth=4, learning_rate=0.5, colsample_bytree=0.7, total=   0.9s\n",
      "[CV] subsample=0.7, reg_alpha=0.5, n_estimators=200, min_child_weight=1, max_depth=6, learning_rate=0.5, colsample_bytree=0.8 \n",
      "[CV]  subsample=0.7, reg_alpha=0.5, n_estimators=200, min_child_weight=1, max_depth=6, learning_rate=0.5, colsample_bytree=0.8, total=   0.9s\n",
      "[CV] subsample=0.7, reg_alpha=0.5, n_estimators=200, min_child_weight=1, max_depth=6, learning_rate=0.5, colsample_bytree=0.8 \n",
      "[CV]  subsample=0.7, reg_alpha=0.5, n_estimators=200, min_child_weight=1, max_depth=6, learning_rate=0.5, colsample_bytree=0.8, total=   0.6s\n",
      "[CV] subsample=0.7, reg_alpha=0, n_estimators=250, min_child_weight=1, max_depth=5, learning_rate=0.05, colsample_bytree=0.7 \n",
      "[CV]  subsample=0.7, reg_alpha=0, n_estimators=250, min_child_weight=1, max_depth=5, learning_rate=0.05, colsample_bytree=0.7, total=   0.5s\n",
      "[CV] subsample=0.7, reg_alpha=0, n_estimators=250, min_child_weight=1, max_depth=5, learning_rate=0.05, colsample_bytree=0.7 \n",
      "[CV]  subsample=0.7, reg_alpha=0, n_estimators=250, min_child_weight=1, max_depth=5, learning_rate=0.05, colsample_bytree=0.7, total=   0.5s\n",
      "[CV] subsample=0.7, reg_alpha=0.1, n_estimators=200, min_child_weight=7, max_depth=3, learning_rate=0.05, colsample_bytree=0.8 \n",
      "[CV]  subsample=0.7, reg_alpha=0.1, n_estimators=200, min_child_weight=7, max_depth=3, learning_rate=0.05, colsample_bytree=0.8, total=   0.3s\n",
      "[CV] subsample=0.7, reg_alpha=0.1, n_estimators=200, min_child_weight=7, max_depth=3, learning_rate=0.05, colsample_bytree=0.8 \n",
      "[CV]  subsample=0.7, reg_alpha=0.1, n_estimators=200, min_child_weight=7, max_depth=3, learning_rate=0.05, colsample_bytree=0.8, total=   0.3s\n",
      "[CV] subsample=0.9, reg_alpha=0.1, n_estimators=150, min_child_weight=1, max_depth=6, learning_rate=0.5, colsample_bytree=0.7 \n",
      "[CV]  subsample=0.9, reg_alpha=0.1, n_estimators=150, min_child_weight=1, max_depth=6, learning_rate=0.5, colsample_bytree=0.7, total=   0.3s\n",
      "[CV] subsample=0.9, reg_alpha=0.1, n_estimators=150, min_child_weight=1, max_depth=6, learning_rate=0.5, colsample_bytree=0.7 \n",
      "[CV]  subsample=0.9, reg_alpha=0.1, n_estimators=150, min_child_weight=1, max_depth=6, learning_rate=0.5, colsample_bytree=0.7, total=   0.3s\n",
      "[CV] subsample=0.7, reg_alpha=1, n_estimators=300, min_child_weight=3, max_depth=6, learning_rate=0.05, colsample_bytree=0.6 \n",
      "[CV]  subsample=0.7, reg_alpha=1, n_estimators=300, min_child_weight=3, max_depth=6, learning_rate=0.05, colsample_bytree=0.6, total=   0.5s\n",
      "[CV] subsample=0.7, reg_alpha=1, n_estimators=300, min_child_weight=3, max_depth=6, learning_rate=0.05, colsample_bytree=0.6 \n",
      "[CV]  subsample=0.7, reg_alpha=1, n_estimators=300, min_child_weight=3, max_depth=6, learning_rate=0.05, colsample_bytree=0.6, total=   0.5s\n",
      "[CV] subsample=0.7, reg_alpha=0, n_estimators=200, min_child_weight=5, max_depth=4, learning_rate=1, colsample_bytree=0.7 \n",
      "[CV]  subsample=0.7, reg_alpha=0, n_estimators=200, min_child_weight=5, max_depth=4, learning_rate=1, colsample_bytree=0.7, total=   0.3s\n",
      "[CV] subsample=0.7, reg_alpha=0, n_estimators=200, min_child_weight=5, max_depth=4, learning_rate=1, colsample_bytree=0.7 \n",
      "[CV]  subsample=0.7, reg_alpha=0, n_estimators=200, min_child_weight=5, max_depth=4, learning_rate=1, colsample_bytree=0.7, total=   0.7s\n",
      "[CV] subsample=0.8, reg_alpha=0.5, n_estimators=300, min_child_weight=3, max_depth=5, learning_rate=1, colsample_bytree=0.7 \n",
      "[CV]  subsample=0.8, reg_alpha=0.5, n_estimators=300, min_child_weight=3, max_depth=5, learning_rate=1, colsample_bytree=0.7, total=   1.0s\n",
      "[CV] subsample=0.8, reg_alpha=0.5, n_estimators=300, min_child_weight=3, max_depth=5, learning_rate=1, colsample_bytree=0.7 \n",
      "[CV]  subsample=0.8, reg_alpha=0.5, n_estimators=300, min_child_weight=3, max_depth=5, learning_rate=1, colsample_bytree=0.7, total=   1.0s\n",
      "[CV] subsample=0.8, reg_alpha=0.1, n_estimators=150, min_child_weight=3, max_depth=5, learning_rate=0.05, colsample_bytree=0.7 \n",
      "[CV]  subsample=0.8, reg_alpha=0.1, n_estimators=150, min_child_weight=3, max_depth=5, learning_rate=0.05, colsample_bytree=0.7, total=   0.6s\n",
      "[CV] subsample=0.8, reg_alpha=0.1, n_estimators=150, min_child_weight=3, max_depth=5, learning_rate=0.05, colsample_bytree=0.7 \n",
      "[CV]  subsample=0.8, reg_alpha=0.1, n_estimators=150, min_child_weight=3, max_depth=5, learning_rate=0.05, colsample_bytree=0.7, total=   0.6s\n",
      "[CV] subsample=0.9, reg_alpha=0.5, n_estimators=150, min_child_weight=3, max_depth=3, learning_rate=0.05, colsample_bytree=0.6 \n",
      "[CV]  subsample=0.9, reg_alpha=0.5, n_estimators=150, min_child_weight=3, max_depth=3, learning_rate=0.05, colsample_bytree=0.6, total=   0.5s\n",
      "[CV] subsample=0.9, reg_alpha=0.5, n_estimators=150, min_child_weight=3, max_depth=3, learning_rate=0.05, colsample_bytree=0.6 \n",
      "[CV]  subsample=0.9, reg_alpha=0.5, n_estimators=150, min_child_weight=3, max_depth=3, learning_rate=0.05, colsample_bytree=0.6, total=   0.5s\n",
      "[CV] subsample=0.8, reg_alpha=0.1, n_estimators=250, min_child_weight=3, max_depth=3, learning_rate=1, colsample_bytree=0.8 \n",
      "[CV]  subsample=0.8, reg_alpha=0.1, n_estimators=250, min_child_weight=3, max_depth=3, learning_rate=1, colsample_bytree=0.8, total=   0.7s\n",
      "[CV] subsample=0.8, reg_alpha=0.1, n_estimators=250, min_child_weight=3, max_depth=3, learning_rate=1, colsample_bytree=0.8 \n",
      "[CV]  subsample=0.8, reg_alpha=0.1, n_estimators=250, min_child_weight=3, max_depth=3, learning_rate=1, colsample_bytree=0.8, total=   0.8s\n",
      "[CV] subsample=0.7, reg_alpha=0, n_estimators=300, min_child_weight=3, max_depth=3, learning_rate=0.1, colsample_bytree=0.6 \n",
      "[CV]  subsample=0.7, reg_alpha=0, n_estimators=300, min_child_weight=3, max_depth=3, learning_rate=0.1, colsample_bytree=0.6, total=   0.9s\n",
      "[CV] subsample=0.7, reg_alpha=0, n_estimators=300, min_child_weight=3, max_depth=3, learning_rate=0.1, colsample_bytree=0.6 \n",
      "[CV]  subsample=0.7, reg_alpha=0, n_estimators=300, min_child_weight=3, max_depth=3, learning_rate=0.1, colsample_bytree=0.6, total=   0.9s\n",
      "[CV] subsample=0.7, reg_alpha=0.05, n_estimators=300, min_child_weight=7, max_depth=4, learning_rate=0.1, colsample_bytree=0.6 \n",
      "[CV]  subsample=0.7, reg_alpha=0.05, n_estimators=300, min_child_weight=7, max_depth=4, learning_rate=0.1, colsample_bytree=0.6, total=   0.9s\n",
      "[CV] subsample=0.7, reg_alpha=0.05, n_estimators=300, min_child_weight=7, max_depth=4, learning_rate=0.1, colsample_bytree=0.6 \n",
      "[CV]  subsample=0.7, reg_alpha=0.05, n_estimators=300, min_child_weight=7, max_depth=4, learning_rate=0.1, colsample_bytree=0.6, total=   0.9s\n",
      "[CV] subsample=0.8, reg_alpha=0, n_estimators=250, min_child_weight=5, max_depth=3, learning_rate=0.05, colsample_bytree=0.8 \n",
      "[CV]  subsample=0.8, reg_alpha=0, n_estimators=250, min_child_weight=5, max_depth=3, learning_rate=0.05, colsample_bytree=0.8, total=   0.8s\n",
      "[CV] subsample=0.8, reg_alpha=0, n_estimators=250, min_child_weight=5, max_depth=3, learning_rate=0.05, colsample_bytree=0.8 \n",
      "[CV]  subsample=0.8, reg_alpha=0, n_estimators=250, min_child_weight=5, max_depth=3, learning_rate=0.05, colsample_bytree=0.8, total=   0.8s\n",
      "[CV] subsample=0.7, reg_alpha=0.1, n_estimators=300, min_child_weight=1, max_depth=5, learning_rate=0.05, colsample_bytree=0.6 \n",
      "[CV]  subsample=0.7, reg_alpha=0.1, n_estimators=300, min_child_weight=1, max_depth=5, learning_rate=0.05, colsample_bytree=0.6, total=   0.7s\n",
      "[CV] subsample=0.7, reg_alpha=0.1, n_estimators=300, min_child_weight=1, max_depth=5, learning_rate=0.05, colsample_bytree=0.6 \n",
      "[CV]  subsample=0.7, reg_alpha=0.1, n_estimators=300, min_child_weight=1, max_depth=5, learning_rate=0.05, colsample_bytree=0.6, total=   0.6s\n",
      "[CV] subsample=0.8, reg_alpha=0.1, n_estimators=250, min_child_weight=5, max_depth=5, learning_rate=0.05, colsample_bytree=0.7 \n",
      "[CV]  subsample=0.8, reg_alpha=0.1, n_estimators=250, min_child_weight=5, max_depth=5, learning_rate=0.05, colsample_bytree=0.7, total=   0.4s\n",
      "[CV] subsample=0.8, reg_alpha=0.1, n_estimators=250, min_child_weight=5, max_depth=5, learning_rate=0.05, colsample_bytree=0.7 \n",
      "[CV]  subsample=0.8, reg_alpha=0.1, n_estimators=250, min_child_weight=5, max_depth=5, learning_rate=0.05, colsample_bytree=0.7, total=   0.4s\n",
      "[CV] subsample=0.9, reg_alpha=0.1, n_estimators=300, min_child_weight=1, max_depth=5, learning_rate=0.1, colsample_bytree=0.8 \n",
      "[CV]  subsample=0.9, reg_alpha=0.1, n_estimators=300, min_child_weight=1, max_depth=5, learning_rate=0.1, colsample_bytree=0.8, total=   0.5s\n",
      "[CV] subsample=0.9, reg_alpha=0.1, n_estimators=300, min_child_weight=1, max_depth=5, learning_rate=0.1, colsample_bytree=0.8 \n",
      "[CV]  subsample=0.9, reg_alpha=0.1, n_estimators=300, min_child_weight=1, max_depth=5, learning_rate=0.1, colsample_bytree=0.8, total=   0.5s\n",
      "[CV] subsample=0.8, reg_alpha=0.05, n_estimators=150, min_child_weight=3, max_depth=4, learning_rate=0.1, colsample_bytree=0.6 \n",
      "[CV]  subsample=0.8, reg_alpha=0.05, n_estimators=150, min_child_weight=3, max_depth=4, learning_rate=0.1, colsample_bytree=0.6, total=   0.2s\n",
      "[CV] subsample=0.8, reg_alpha=0.05, n_estimators=150, min_child_weight=3, max_depth=4, learning_rate=0.1, colsample_bytree=0.6 \n",
      "[CV]  subsample=0.8, reg_alpha=0.05, n_estimators=150, min_child_weight=3, max_depth=4, learning_rate=0.1, colsample_bytree=0.6, total=   0.2s\n",
      "[CV] subsample=0.9, reg_alpha=0, n_estimators=300, min_child_weight=3, max_depth=5, learning_rate=0.5, colsample_bytree=0.6 \n",
      "[CV]  subsample=0.9, reg_alpha=0, n_estimators=300, min_child_weight=3, max_depth=5, learning_rate=0.5, colsample_bytree=0.6, total=   0.7s\n",
      "[CV] subsample=0.9, reg_alpha=0, n_estimators=300, min_child_weight=3, max_depth=5, learning_rate=0.5, colsample_bytree=0.6 \n",
      "[CV]  subsample=0.9, reg_alpha=0, n_estimators=300, min_child_weight=3, max_depth=5, learning_rate=0.5, colsample_bytree=0.6, total=   1.0s\n",
      "[CV] subsample=0.8, reg_alpha=0.5, n_estimators=200, min_child_weight=1, max_depth=4, learning_rate=0.1, colsample_bytree=0.7 \n",
      "[CV]  subsample=0.8, reg_alpha=0.5, n_estimators=200, min_child_weight=1, max_depth=4, learning_rate=0.1, colsample_bytree=0.7, total=   0.7s\n",
      "[CV] subsample=0.8, reg_alpha=0.5, n_estimators=200, min_child_weight=1, max_depth=4, learning_rate=0.1, colsample_bytree=0.7 \n",
      "[CV]  subsample=0.8, reg_alpha=0.5, n_estimators=200, min_child_weight=1, max_depth=4, learning_rate=0.1, colsample_bytree=0.7, total=   0.7s\n",
      "[CV] subsample=0.8, reg_alpha=0, n_estimators=150, min_child_weight=7, max_depth=3, learning_rate=0.1, colsample_bytree=0.6 \n",
      "[CV]  subsample=0.8, reg_alpha=0, n_estimators=150, min_child_weight=7, max_depth=3, learning_rate=0.1, colsample_bytree=0.6, total=   0.5s\n",
      "[CV] subsample=0.8, reg_alpha=0, n_estimators=150, min_child_weight=7, max_depth=3, learning_rate=0.1, colsample_bytree=0.6 \n",
      "[CV]  subsample=0.8, reg_alpha=0, n_estimators=150, min_child_weight=7, max_depth=3, learning_rate=0.1, colsample_bytree=0.6, total=   0.5s\n",
      "[CV] subsample=0.7, reg_alpha=1, n_estimators=100, min_child_weight=5, max_depth=4, learning_rate=0.5, colsample_bytree=0.7 \n",
      "[CV]  subsample=0.7, reg_alpha=1, n_estimators=100, min_child_weight=5, max_depth=4, learning_rate=0.5, colsample_bytree=0.7, total=   0.4s\n",
      "[CV] subsample=0.7, reg_alpha=1, n_estimators=100, min_child_weight=5, max_depth=4, learning_rate=0.5, colsample_bytree=0.7 \n",
      "[CV]  subsample=0.7, reg_alpha=1, n_estimators=100, min_child_weight=5, max_depth=4, learning_rate=0.5, colsample_bytree=0.7, total=   0.4s\n",
      "[CV] subsample=0.7, reg_alpha=1, n_estimators=150, min_child_weight=5, max_depth=3, learning_rate=0.1, colsample_bytree=0.6 \n",
      "[CV]  subsample=0.7, reg_alpha=1, n_estimators=150, min_child_weight=5, max_depth=3, learning_rate=0.1, colsample_bytree=0.6, total=   0.5s\n",
      "[CV] subsample=0.7, reg_alpha=1, n_estimators=150, min_child_weight=5, max_depth=3, learning_rate=0.1, colsample_bytree=0.6 \n",
      "[CV]  subsample=0.7, reg_alpha=1, n_estimators=150, min_child_weight=5, max_depth=3, learning_rate=0.1, colsample_bytree=0.6, total=   0.5s\n",
      "[CV] subsample=0.7, reg_alpha=1, n_estimators=150, min_child_weight=1, max_depth=3, learning_rate=0.5, colsample_bytree=0.8 \n",
      "[CV]  subsample=0.7, reg_alpha=1, n_estimators=150, min_child_weight=1, max_depth=3, learning_rate=0.5, colsample_bytree=0.8, total=   0.5s\n",
      "[CV] subsample=0.7, reg_alpha=1, n_estimators=150, min_child_weight=1, max_depth=3, learning_rate=0.5, colsample_bytree=0.8 \n",
      "[CV]  subsample=0.7, reg_alpha=1, n_estimators=150, min_child_weight=1, max_depth=3, learning_rate=0.5, colsample_bytree=0.8, total=   0.5s\n",
      "[CV] subsample=0.8, reg_alpha=0.1, n_estimators=250, min_child_weight=1, max_depth=4, learning_rate=0.5, colsample_bytree=0.6 \n",
      "[CV]  subsample=0.8, reg_alpha=0.1, n_estimators=250, min_child_weight=1, max_depth=4, learning_rate=0.5, colsample_bytree=0.6, total=   0.8s\n",
      "[CV] subsample=0.8, reg_alpha=0.1, n_estimators=250, min_child_weight=1, max_depth=4, learning_rate=0.5, colsample_bytree=0.6 \n",
      "[CV]  subsample=0.8, reg_alpha=0.1, n_estimators=250, min_child_weight=1, max_depth=4, learning_rate=0.5, colsample_bytree=0.6, total=   0.8s\n",
      "[CV] subsample=0.9, reg_alpha=0.05, n_estimators=300, min_child_weight=3, max_depth=3, learning_rate=1, colsample_bytree=0.8 \n",
      "[CV]  subsample=0.9, reg_alpha=0.05, n_estimators=300, min_child_weight=3, max_depth=3, learning_rate=1, colsample_bytree=0.8, total=   0.9s\n",
      "[CV] subsample=0.9, reg_alpha=0.05, n_estimators=300, min_child_weight=3, max_depth=3, learning_rate=1, colsample_bytree=0.8 \n",
      "[CV]  subsample=0.9, reg_alpha=0.05, n_estimators=300, min_child_weight=3, max_depth=3, learning_rate=1, colsample_bytree=0.8, total=   0.9s\n",
      "[CV] subsample=0.7, reg_alpha=0.5, n_estimators=300, min_child_weight=5, max_depth=6, learning_rate=0.5, colsample_bytree=0.6 \n",
      "[CV]  subsample=0.7, reg_alpha=0.5, n_estimators=300, min_child_weight=5, max_depth=6, learning_rate=0.5, colsample_bytree=0.6, total=   1.0s\n",
      "[CV] subsample=0.7, reg_alpha=0.5, n_estimators=300, min_child_weight=5, max_depth=6, learning_rate=0.5, colsample_bytree=0.6 \n",
      "[CV]  subsample=0.7, reg_alpha=0.5, n_estimators=300, min_child_weight=5, max_depth=6, learning_rate=0.5, colsample_bytree=0.6, total=   1.0s\n",
      "[CV] subsample=0.7, reg_alpha=1, n_estimators=250, min_child_weight=3, max_depth=5, learning_rate=0.5, colsample_bytree=0.7 \n",
      "[CV]  subsample=0.7, reg_alpha=1, n_estimators=250, min_child_weight=3, max_depth=5, learning_rate=0.5, colsample_bytree=0.7, total=   0.5s\n",
      "[CV] subsample=0.7, reg_alpha=1, n_estimators=250, min_child_weight=3, max_depth=5, learning_rate=0.5, colsample_bytree=0.7 \n",
      "[CV]  subsample=0.7, reg_alpha=1, n_estimators=250, min_child_weight=3, max_depth=5, learning_rate=0.5, colsample_bytree=0.7, total=   0.4s\n",
      "[CV] subsample=0.9, reg_alpha=0.5, n_estimators=200, min_child_weight=3, max_depth=3, learning_rate=0.05, colsample_bytree=0.8 \n",
      "[CV]  subsample=0.9, reg_alpha=0.5, n_estimators=200, min_child_weight=3, max_depth=3, learning_rate=0.05, colsample_bytree=0.8, total=   0.3s\n",
      "[CV] subsample=0.9, reg_alpha=0.5, n_estimators=200, min_child_weight=3, max_depth=3, learning_rate=0.05, colsample_bytree=0.8 \n",
      "[CV]  subsample=0.9, reg_alpha=0.5, n_estimators=200, min_child_weight=3, max_depth=3, learning_rate=0.05, colsample_bytree=0.8, total=   0.3s\n",
      "[CV] subsample=0.8, reg_alpha=0.1, n_estimators=300, min_child_weight=3, max_depth=5, learning_rate=0.5, colsample_bytree=0.7 \n",
      "[CV]  subsample=0.8, reg_alpha=0.1, n_estimators=300, min_child_weight=3, max_depth=5, learning_rate=0.5, colsample_bytree=0.7, total=   0.5s\n",
      "[CV] subsample=0.8, reg_alpha=0.1, n_estimators=300, min_child_weight=3, max_depth=5, learning_rate=0.5, colsample_bytree=0.7 \n",
      "[CV]  subsample=0.8, reg_alpha=0.1, n_estimators=300, min_child_weight=3, max_depth=5, learning_rate=0.5, colsample_bytree=0.7, total=   0.5s\n"
     ]
    },
    {
     "name": "stderr",
     "output_type": "stream",
     "text": [
      "[Parallel(n_jobs=1)]: Done 300 out of 300 | elapsed:  2.6min finished\n"
     ]
    },
    {
     "name": "stdout",
     "output_type": "stream",
     "text": [
      "{'subsample': 0.8, 'reg_alpha': 0.5, 'n_estimators': 250, 'min_child_weight': 1, 'max_depth': 6, 'learning_rate': 0.1, 'colsample_bytree': 0.6}\n"
     ]
    }
   ],
   "source": [
    "# Use the random grid to search for best hyperparameters\n",
    "# First create the base model to tune\n",
    "from sklearn.model_selection import RandomizedSearchCV\n",
    "xgb =  XGBClassifier(**ind_params)\n",
    "# Random search of parameters, using 2 fold cross validation, \n",
    "# search across 150 different combinations\n",
    "xgb_random = RandomizedSearchCV(estimator = xgb, param_distributions = params, n_iter = 150, cv = 2, verbose=2)\n",
    "# Fit the random search model\n",
    "xgb_random.fit(X_train, y_train)\n",
    "print (xgb_random.best_params_)\n"
   ]
  },
  {
   "cell_type": "markdown",
   "metadata": {},
   "source": [
    "#### Making the prediction on test data"
   ]
  },
  {
   "cell_type": "code",
   "execution_count": 35,
   "metadata": {},
   "outputs": [
    {
     "name": "stdout",
     "output_type": "stream",
     "text": [
      "              precision    recall  f1-score   support\n",
      "\n",
      "           0       0.89      0.96      0.92      1787\n",
      "           1       0.86      0.70      0.77       693\n",
      "\n",
      "    accuracy                           0.89      2480\n",
      "   macro avg       0.88      0.83      0.85      2480\n",
      "weighted avg       0.88      0.89      0.88      2480\n",
      "\n"
     ]
    }
   ],
   "source": [
    "# Make predictions using the unoptimized and model\n",
    "best_random = xgb_random.best_estimator_\n",
    "\n",
    "# predictions = (clf.fit(X_train, y_train)).predict(X_test)\n",
    "best_predictions = best_random.predict(X_test)\n",
    "\n",
    "print(classification_report(y_test, best_predictions))"
   ]
  },
  {
   "cell_type": "markdown",
   "metadata": {},
   "source": [
    "#### Make the prediction on validation data"
   ]
  },
  {
   "cell_type": "code",
   "execution_count": 36,
   "metadata": {},
   "outputs": [
    {
     "name": "stdout",
     "output_type": "stream",
     "text": [
      "[0 0 1 ... 0 0 0]\n",
      "              precision    recall  f1-score   support\n",
      "\n",
      "           0       0.98      0.95      0.97      2243\n",
      "           1       0.53      0.70      0.60       164\n",
      "\n",
      "    accuracy                           0.94      2407\n",
      "   macro avg       0.75      0.82      0.78      2407\n",
      "weighted avg       0.95      0.94      0.94      2407\n",
      "\n"
     ]
    }
   ],
   "source": [
    "\n",
    "ypred_best_val = best_random.predict(val_data,)\n",
    "\n",
    "print(ypred_best_val)\n",
    "\n",
    "#### Round off values i.e. 1 for values greater than 0.5 probability\n",
    "predictions_best_val = [round(value) for value in ypred_best_val]\n",
    "\n",
    "#### precison & Recall\n",
    "\n",
    "print(classification_report(Y_val, predictions_best_val))"
   ]
  },
  {
   "cell_type": "markdown",
   "metadata": {},
   "source": [
    " ### 10.Variable importance"
   ]
  },
  {
   "cell_type": "code",
   "execution_count": 37,
   "metadata": {},
   "outputs": [
    {
     "data": {
      "text/plain": [
       "array([0.08696388, 0.00852986, 0.0277946 , 0.01239224, 0.05524933,\n",
       "       0.01393454, 0.03978851, 0.7359058 , 0.00945359, 0.00998751],\n",
       "      dtype=float32)"
      ]
     },
     "execution_count": 37,
     "metadata": {},
     "output_type": "execute_result"
    }
   ],
   "source": [
    "best_random.feature_importances_"
   ]
  },
  {
   "cell_type": "code",
   "execution_count": 38,
   "metadata": {},
   "outputs": [
    {
     "name": "stdout",
     "output_type": "stream",
     "text": [
      "   importance_in_model            variable_name\n",
      "0             0.735906   DifferentPredictedDate\n",
      "1             0.086964         DateMappingMatch\n",
      "2             0.055249         TimeMappingMatch\n",
      "3             0.039789           ShortNameMatch\n",
      "4             0.027795         DescriptionMatch\n",
      "5             0.013935       PredictedNameMatch\n",
      "6             0.012392   DifferentPredictedTime\n",
      "7             0.009988  PredictedTimeCloseMatch\n",
      "8             0.009454     PredictedAmountMatch\n",
      "9             0.008530       AmountMappingMatch\n"
     ]
    }
   ],
   "source": [
    "var_imp = pd.DataFrame({'importance_in_model' : best_random.feature_importances_,'variable_name' : X_train.columns})\n",
    "var_imp = var_imp.sort_values(['importance_in_model'],ascending = False).reset_index(drop = True)\n",
    "print(var_imp)"
   ]
  },
  {
   "cell_type": "code",
   "execution_count": 39,
   "metadata": {},
   "outputs": [
    {
     "data": {
      "text/plain": [
       "<BarContainer object of 10 artists>"
      ]
     },
     "execution_count": 39,
     "metadata": {},
     "output_type": "execute_result"
    },
    {
     "data": {
      "image/png": "[encoded data removed]",
      "text/plain": [
       "<Figure size 864x576 with 1 Axes>"
      ]
     },
     "metadata": {
      "needs_background": "light"
     },
     "output_type": "display_data"
    }
   ],
   "source": [
    "# Plot the feature importances of the forest\n",
    "plt.figure(figsize=(12,8))\n",
    "plt.title(\"Feature importances\")\n",
    "plt.xticks(rotation='vertical')\n",
    "plt.bar(var_imp['variable_name'].values, var_imp['importance_in_model'].values, align='center', alpha=0.5)\n"
   ]
  },
  {
   "cell_type": "markdown",
   "metadata": {},
   "source": [
    "#### As predicted before DifferentPredictedTime came out to be the best feature"
   ]
  },
  {
   "cell_type": "markdown",
   "metadata": {},
   "source": [
    "### Next Steps on improving the model\n",
    "\n",
    "1. Require more data points for better training of the model\n",
    "2. Try More Sampling Technique like SMOTE\n",
    "3. Try Random over sampling by playing around with minority percentage between (20%-35%)\n",
    "4. Try More advanced Boosting techniques like XGBoost with class weights \n",
    "5. Improve by tuning more parameters on different set of values"
   ]
  },
  {
   "cell_type": "markdown",
   "metadata": {},
   "source": [
    "### Deployment Tips:\n",
    "1. Save the best model (best_random) as pickle file\n",
    "2. Automate the  process and just predict\n"
   ]
  },
  {
   "cell_type": "code",
   "execution_count": null,
   "metadata": {},
   "outputs": [],
   "source": []
  }
 ],
 "metadata": {
  "kernelspec": {
   "display_name": "Python 3",
   "language": "python",
   "name": "python3"
  },
  "language_info": {
   "codemirror_mode": {
    "name": "ipython",
    "version": 3
   },
   "file_extension": ".py",
   "mimetype": "text/x-python",
   "name": "python",
   "nbconvert_exporter": "python",
   "pygments_lexer": "ipython3",
   "version": "3.8.5"
  }
 },
 "nbformat": 4,
 "nbformat_minor": 5
}
